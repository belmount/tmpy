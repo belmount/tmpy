{
 "cells": [
  {
   "cell_type": "code",
   "execution_count": 1,
   "metadata": {
    "collapsed": false
   },
   "outputs": [],
   "source": [
    "import pandas as pd\n",
    "import pandas.io.data as web\n",
    "import numpy as np\n",
    "import datetime\n",
    "import matplotlib.pyplot as plt\n",
    "%matplotlib inline\n",
    "pd.set_option('display.notebook_repr_html', False)\n",
    "pd.set_option('display.max_columns', 6)\n",
    "pd.set_option('display.max_rows', 10)\n",
    "pd.set_option('display.width', 78)\n",
    "pd.set_option('precision', 3)"
   ]
  },
  {
   "cell_type": "code",
   "execution_count": 2,
   "metadata": {
    "collapsed": true
   },
   "outputs": [],
   "source": [
    "khsw = web.DataReader('002022.SZ', 'yahoo', '2010/1', '2015/11/10')"
   ]
  },
  {
   "cell_type": "code",
   "execution_count": 138,
   "metadata": {
    "collapsed": false
   },
   "outputs": [],
   "source": [
    "def tr(data, name):\n",
    "    data[name] = data.shift(1).Close\n",
    "    hh = data[['High', name]].max(axis=1)\n",
    "    ll = data[['Low', name]].min(axis=1)\n",
    "    return(hh -ll)\n",
    "\n",
    "tr(khsw, 'prevClose')\n",
    "\n",
    "khsw['TR'] = tr(khsw, 'prevClose')"
   ]
  },
  {
   "cell_type": "code",
   "execution_count": 4,
   "metadata": {
    "collapsed": true
   },
   "outputs": [],
   "source": [
    "khsw['long_ma']=pd.rolling_mean(khsw['Adj Close'], 120)"
   ]
  },
  {
   "cell_type": "code",
   "execution_count": 140,
   "metadata": {
    "collapsed": false
   },
   "outputs": [
    {
     "data": {
      "text/plain": [
       "             Open   High    Low  ...   prevClose    TR   ATR\n",
       "Date                             ...                        \n",
       "2015-11-04  26.00  27.20  25.70  ...       25.10  2.10  1.21\n",
       "2015-11-05  27.23  27.52  26.50  ...       27.15  1.02  1.21\n",
       "2015-11-06  27.20  28.97  27.20  ...       27.36  1.77  1.19\n",
       "2015-11-09  28.50  30.66  28.26  ...       28.69  2.40  1.27\n",
       "2015-11-10  29.27  30.26  28.62  ...       29.21  1.64  1.29\n",
       "\n",
       "[5 rows x 12 columns]"
      ]
     },
     "execution_count": 140,
     "metadata": {},
     "output_type": "execute_result"
    }
   ],
   "source": [
    "khsw['ATR'] = pd.rolling_mean(khsw['TR'], 30)\n",
    "khsw.tail()"
   ]
  },
  {
   "cell_type": "code",
   "execution_count": 141,
   "metadata": {
    "collapsed": false
   },
   "outputs": [],
   "source": [
    "khsw['short_ma'] = pd.rolling_mean(khsw['Adj Close'], 30)\n",
    "khsw['short_ma'].tail()\n",
    "khsw['change'] = khsw['Adj Close'].pct_change()"
   ]
  },
  {
   "cell_type": "code",
   "execution_count": 142,
   "metadata": {
    "collapsed": false
   },
   "outputs": [
    {
     "data": {
      "text/plain": [
       "<bound method DataFrame.head of              Open   High    Low  ...   prevClose    TR   ATR\n",
       "Date                             ...                        \n",
       "2010-07-07  14.57  14.59  14.05  ...       14.53  0.54  0.86\n",
       "2010-07-08  14.30  14.95  14.08  ...       14.45  0.87  0.86\n",
       "2010-07-09  14.40  14.88  14.21  ...       14.50  0.67  0.86\n",
       "2010-07-12  14.59  14.95  14.59  ...       14.71  0.36  0.85\n",
       "2010-07-13  14.77  14.77  14.00  ...       14.78  0.78  0.74\n",
       "...           ...    ...    ...  ...         ...   ...   ...\n",
       "2015-11-04  26.00  27.20  25.70  ...       25.10  2.10  1.21\n",
       "2015-11-05  27.23  27.52  26.50  ...       27.15  1.02  1.21\n",
       "2015-11-06  27.20  28.97  27.20  ...       27.36  1.77  1.19\n",
       "2015-11-09  28.50  30.66  28.26  ...       28.69  2.40  1.27\n",
       "2015-11-10  29.27  30.26  28.62  ...       29.21  1.64  1.29\n",
       "\n",
       "[1367 rows x 12 columns]>"
      ]
     },
     "execution_count": 142,
     "metadata": {},
     "output_type": "execute_result"
    }
   ],
   "source": [
    "vkhsw = khsw[120:].copy()\n",
    "vkhsw.head\n"
   ]
  },
  {
   "cell_type": "code",
   "execution_count": 143,
   "metadata": {
    "collapsed": false
   },
   "outputs": [],
   "source": [
    "vkhsw['sig']=0"
   ]
  },
  {
   "cell_type": "code",
   "execution_count": 144,
   "metadata": {
    "collapsed": false
   },
   "outputs": [],
   "source": [
    "vkhsw.loc[vkhsw.short_ma > vkhsw.long_ma, 'sig']= 1"
   ]
  },
  {
   "cell_type": "code",
   "execution_count": 145,
   "metadata": {
    "collapsed": false
   },
   "outputs": [
    {
     "data": {
      "text/plain": [
       "             Open   High    Low ...     TR   ATR  sig\n",
       "Date                            ...                  \n",
       "2010-10-29  17.23  17.40  16.72 ...   0.68  0.69    1\n",
       "2010-11-01  17.48  17.77  17.30 ...   0.47  0.69    1\n",
       "2010-11-02  17.60  17.77  17.21 ...   0.56  0.68    1\n",
       "2010-11-03  17.21  17.32  16.80 ...   0.52  0.67    1\n",
       "2010-11-04  16.93  17.50  16.91 ...   0.59  0.66    1\n",
       "...           ...    ...    ... ...    ...   ...  ...\n",
       "2015-07-23  37.00  38.47  36.57 ...   1.90  3.59    1\n",
       "2015-07-24  38.19  40.99  37.56 ...   3.43  3.49    1\n",
       "2015-07-27  38.00  39.24  34.92 ...   4.32  3.47    1\n",
       "2015-07-28  32.93  34.00  31.43 ...   3.49  3.42    1\n",
       "2015-07-29  32.69  33.48  29.11 ...   4.37  3.40    1\n",
       "\n",
       "[702 rows x 13 columns]"
      ]
     },
     "execution_count": 145,
     "metadata": {},
     "output_type": "execute_result"
    }
   ],
   "source": [
    "vkhsw.loc[vkhsw.sig==1]"
   ]
  },
  {
   "cell_type": "code",
   "execution_count": 146,
   "metadata": {
    "collapsed": false
   },
   "outputs": [],
   "source": [
    "vkhsw['ret'] = (vkhsw.sig*vkhsw.change + 1).cumprod()\n",
    "vkhsw['norm_ret'] = (vkhsw.change +1).cumprod()\n",
    "\n",
    "# and ax2 is in the lower row\n",
    "\n"
   ]
  },
  {
   "cell_type": "code",
   "execution_count": 147,
   "metadata": {
    "collapsed": false
   },
   "outputs": [
    {
     "data": {
      "text/plain": [
       "<matplotlib.axes._subplots.AxesSubplot at 0xd0f05f8>"
      ]
     },
     "execution_count": 147,
     "metadata": {},
     "output_type": "execute_result"
    },
    {
     "data": {
      "image/png": "[encoded data removed]",
      "text/plain": [
       "<matplotlib.figure.Figure at 0xd0e4a90>"
      ]
     },
     "metadata": {},
     "output_type": "display_data"
    }
   ],
   "source": [
    "ax1 = plt.subplot2grid(shape=(2,1), loc=(0,0))\n",
    "ax2 = plt.subplot2grid(shape=(2,1), loc=(1,0))\n",
    "\n",
    "vkhsw[['norm_ret', 'ret']].plot(ax = ax1)\n",
    "vkhsw[[ 'long_ma', 'short_ma']].plot(ax = ax2)"
   ]
  },
  {
   "cell_type": "code",
   "execution_count": 148,
   "metadata": {
    "collapsed": false
   },
   "outputs": [],
   "source": [
    "trans_count = vkhsw[vkhsw.sig > vkhsw.shift().sig]"
   ]
  },
  {
   "cell_type": "code",
   "execution_count": 149,
   "metadata": {
    "collapsed": false
   },
   "outputs": [
    {
     "data": {
      "text/plain": [
       "7"
      ]
     },
     "execution_count": 149,
     "metadata": {},
     "output_type": "execute_result"
    }
   ],
   "source": [
    "len(trans_count)"
   ]
  },
  {
   "cell_type": "code",
   "execution_count": 150,
   "metadata": {
    "collapsed": false
   },
   "outputs": [
    {
     "data": {
      "text/plain": [
       "             Open   High    Low    ...     sig   ret  norm_ret\n",
       "Date                               ...                        \n",
       "2011-12-06  12.30  12.45  12.16    ...       0  0.92      0.87\n",
       "2011-12-07  12.42  12.75  12.35    ...       1  0.94      0.89\n",
       "2011-12-08  12.51  12.66  12.16    ...       1  0.92      0.87\n",
       "\n",
       "[3 rows x 15 columns]"
      ]
     },
     "execution_count": 150,
     "metadata": {},
     "output_type": "execute_result"
    }
   ],
   "source": [
    "vkhsw['20111206': '20111208']"
   ]
  },
  {
   "cell_type": "code",
   "execution_count": 151,
   "metadata": {
    "collapsed": false
   },
   "outputs": [
    {
     "data": {
      "text/plain": [
       "Open        7\n",
       "High        7\n",
       "Low         7\n",
       "Close       7\n",
       "Volume      7\n",
       "           ..\n",
       "TR          7\n",
       "ATR         7\n",
       "sig         7\n",
       "ret         7\n",
       "norm_ret    7\n",
       "dtype: int64"
      ]
     },
     "execution_count": 151,
     "metadata": {},
     "output_type": "execute_result"
    }
   ],
   "source": [
    "exit_count = vkhsw[vkhsw.sig < vkhsw.shift().sig]\n",
    "exit_count.count()"
   ]
  },
  {
   "cell_type": "code",
   "execution_count": 152,
   "metadata": {
    "collapsed": false
   },
   "outputs": [],
   "source": [
    "trans_idx = (trans_count + exit_count).index"
   ]
  },
  {
   "cell_type": "code",
   "execution_count": 153,
   "metadata": {
    "collapsed": false
   },
   "outputs": [
    {
     "data": {
      "text/plain": [
       "0    0\n",
       "1    0\n",
       "2    0\n",
       "3    0\n",
       "4    0\n",
       "5    0\n",
       "6    0\n",
       "dtype: float64"
      ]
     },
     "execution_count": 153,
     "metadata": {},
     "output_type": "execute_result"
    }
   ],
   "source": [
    "max_return = pd.Series([0.0]*len(trans_count))\n",
    "max_drawdown = max_return.copy()\n",
    "exit_return = max_drawdown.copy()\n",
    "max_return"
   ]
  },
  {
   "cell_type": "code",
   "execution_count": 154,
   "metadata": {
    "collapsed": false
   },
   "outputs": [],
   "source": [
    "for i in range(0, len(trans_idx)//2):\n",
    "    idx = i *2\n",
    "    trading_days = vkhsw[trans_idx[idx]:trans_idx[idx+1] ].copy()\n",
    "    day_len = len(trading_days)\n",
    "    trading_days.ret = (1+trading_days[\"Adj Close\"].pct_change()).cumprod()\n",
    "    trading_days.norm_ret = trading_days.ret /trading_days.ret.cummax()#use to calc rolling max\n",
    "    max_return[i], max_drawdown[i], exit_return[i] = trade_summ(trading_days, trans_idx[idx+1])"
   ]
  },
  {
   "cell_type": "code",
   "execution_count": 155,
   "metadata": {
    "collapsed": false
   },
   "outputs": [
    {
     "data": {
      "text/plain": [
       "      0     1     2  ...      4     5     6\n",
       "0  1.27  0.98  1.14  ...   1.49  1.23  2.28\n",
       "1  0.29  0.07  0.16  ...   0.23  0.20  0.53\n",
       "2  0.91  0.91  1.02  ...   1.31  1.05  1.17\n",
       "\n",
       "[3 rows x 7 columns]"
      ]
     },
     "execution_count": 155,
     "metadata": {},
     "output_type": "execute_result"
    }
   ],
   "source": [
    "trade_summary = pd.DataFrame([max_return, max_drawdown, exit_return])\n",
    "trade_summary"
   ]
  },
  {
   "cell_type": "code",
   "execution_count": 29,
   "metadata": {
    "collapsed": true
   },
   "outputs": [],
   "source": [
    "last_return = exit_return.cumprod()"
   ]
  },
  {
   "cell_type": "code",
   "execution_count": 80,
   "metadata": {
    "collapsed": false
   },
   "outputs": [],
   "source": [
    "\n",
    "def trade_summ( data, at):\n",
    "    max_ret = np.max(data.ret)\n",
    "    max_dd = 1 - np.min(data.norm_ret)\n",
    "    exit_ret = data.ret.loc[at]\n",
    "    return (max_ret, max_dd, exit_ret)"
   ]
  },
  {
   "cell_type": "code",
   "execution_count": 122,
   "metadata": {
    "collapsed": false
   },
   "outputs": [
    {
     "name": "stdout",
     "output_type": "stream",
     "text": [
      "2011-01-17 00:00:00\n",
      "2011-12-13 00:00:00\n",
      "2012-05-25 00:00:00\n",
      "NaT\n",
      "NaT\n",
      "NaT\n",
      "NaT\n"
     ]
    }
   ],
   "source": [
    "\n",
    "stoploss = 0.95\n",
    "for i in range(0, len(trans_idx)//2):\n",
    "    idx = i *2\n",
    "    trading_days = vkhsw[trans_idx[idx]:trans_idx[idx+1] ].copy()\n",
    "    day_len = len(trading_days)\n",
    "    trading_days.ret = (1+trading_days[\"Adj Close\"].pct_change()).cumprod()\n",
    "    trading_days.norm_ret = trading_days.ret /trading_days.ret.cummax()#use to calc rolling max\n",
    "    \n",
    "    # stop loss filter\n",
    "    trading_days['stopex'] = 0 \n",
    "    trading_days.loc[trading_days.ret < stoploss, 'stopex'] = 1\n",
    "    stop_at = trading_days[trading_days.stopex == 1].index.min()\n",
    "    print stop_at\n",
    "    \n",
    "    # trailing stop filter\n",
    "    tr_stop = 3 * trading_days.loc[ trans_idx[idx], 'ATR']\n",
    "    tr_sig = abs(trading_days.Close - trading_days.Close.cumsum()) > tr_stop \n",
    "    \n",
    "    if  not stop_at.year > 0: stop_at = trans_idx[idx+1]\n",
    "    stop_tds = trading_days[:stop_at].copy()            \n",
    "    max_return[i], max_drawdown[i], exit_return[i] = trade_summ(stop_tds, stop_at)\n",
    "    \n"
   ]
  },
  {
   "cell_type": "code",
   "execution_count": 165,
   "metadata": {
    "collapsed": false
   },
   "outputs": [],
   "source": [
    "test = vkhsw['20111206': '20111220'].copy()\n",
    "# test for trailing stop\n",
    "test.loc[abs(test.Close - test.Close.cummax())>1, 'sig'] =1 "
   ]
  },
  {
   "cell_type": "code",
   "execution_count": 133,
   "metadata": {
    "collapsed": false
   },
   "outputs": [
    {
     "data": {
      "text/plain": [
       "             Open   High    Low    ...      norm_ret  stopex  prevClose\n",
       "Date                               ...                                 \n",
       "2011-12-06  12.30  12.45  12.16    ...          0.87       1        NaN\n",
       "2011-12-07  12.42  12.75  12.35    ...          0.89       1      12.38\n",
       "2011-12-08  12.51  12.66  12.16    ...          0.87       1      12.61\n",
       "\n",
       "[3 rows x 14 columns]"
      ]
     },
     "execution_count": 133,
     "metadata": {},
     "output_type": "execute_result"
    }
   ],
   "source": [
    "test['prevClose'] = test.shift(1).Close\n",
    "test"
   ]
  },
  {
   "cell_type": "code",
   "execution_count": 135,
   "metadata": {
    "collapsed": false
   },
   "outputs": [
    {
     "data": {
      "text/plain": [
       "Date\n",
       "2011-12-06    0.29\n",
       "2011-12-07    0.40\n",
       "2011-12-08    0.50\n",
       "dtype: float64"
      ]
     },
     "execution_count": 135,
     "metadata": {},
     "output_type": "execute_result"
    }
   ],
   "source": [
    "test[['High', 'prevClose']].max(axis=1) - test[['Low', 'prevClose']].min(axis=1)"
   ]
  },
  {
   "cell_type": "code",
   "execution_count": 166,
   "metadata": {
    "collapsed": false
   },
   "outputs": [
    {
     "data": {
      "text/plain": [
       "             Open   High    Low    ...     sig   ret  norm_ret\n",
       "Date                               ...                        \n",
       "2011-12-06  12.30  12.45  12.16    ...       0  0.92      0.87\n",
       "2011-12-07  12.42  12.75  12.35    ...       1  0.94      0.89\n",
       "2011-12-08  12.51  12.66  12.16    ...       1  0.92      0.87\n",
       "2011-12-09  12.18  12.42  12.16    ...       1  0.91      0.86\n",
       "2011-12-12  12.23  12.39  12.20    ...       1  0.91      0.86\n",
       "...           ...    ...    ...    ...     ...   ...       ...\n",
       "2011-12-14  11.90  12.05  11.77    ...       1  0.88      0.83\n",
       "2011-12-15  11.73  11.88  11.11    ...       1  0.88      0.81\n",
       "2011-12-16  11.44  11.68  11.15    ...       0  0.88      0.82\n",
       "2011-12-19  11.48  11.62  11.19    ...       1  0.88      0.81\n",
       "2011-12-20  11.58  11.88  11.50    ...       0  0.88      0.82\n",
       "\n",
       "[11 rows x 15 columns]"
      ]
     },
     "execution_count": 166,
     "metadata": {},
     "output_type": "execute_result"
    }
   ],
   "source": [
    "test"
   ]
  },
  {
   "cell_type": "code",
   "execution_count": null,
   "metadata": {
    "collapsed": true
   },
   "outputs": [],
   "source": []
  }
 ],
 "metadata": {
  "kernelspec": {
   "display_name": "Python 2",
   "language": "python",
   "name": "python2"
  },
  "language_info": {
   "codemirror_mode": {
    "name": "ipython",
    "version": 2
   },
   "file_extension": ".py",
   "mimetype": "text/x-python",
   "name": "python",
   "nbconvert_exporter": "python",
   "pygments_lexer": "ipython2",
   "version": "2.7.10"
  }
 },
 "nbformat": 4,
 "nbformat_minor": 0
}
