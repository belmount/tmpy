{
 "cells": [
  {
   "cell_type": "code",
   "execution_count": 2,
   "metadata": {
    "collapsed": false
   },
   "outputs": [],
   "source": [
    "import pandas as pd\n",
    "import pandas.io.data as web\n",
    "import numpy as np\n",
    "import datetime\n",
    "import matplotlib.pyplot as plt\n",
    "%matplotlib inline\n",
    "pd.set_option('display.notebook_repr_html', False)\n",
    "pd.set_option('display.max_columns', 6)\n",
    "pd.set_option('display.max_rows', 10)\n",
    "pd.set_option('display.width', 78)\n",
    "pd.set_option('precision', 3)"
   ]
  },
  {
   "cell_type": "code",
   "execution_count": 3,
   "metadata": {
    "collapsed": false
   },
   "outputs": [],
   "source": [
    "# get data from yahoo finance\n",
    "def get_data(symbol, start, end):\n",
    "    return web.DataReader(symbol, 'yahoo', start, end)\n",
    "symbol = '002022.SZ'\n",
    "start = '20050101'\n",
    "end = '20131231'\n",
    "data = get_data(symbol, start, end)"
   ]
  },
  {
   "cell_type": "code",
   "execution_count": 4,
   "metadata": {
    "collapsed": false
   },
   "outputs": [],
   "source": [
    "def tr(data):\n",
    "    ''' generate true range TR tech signal'''\n",
    "    name = 'prev_value'\n",
    "    data[name] = data.shift(1).Close\n",
    "    hh = data[['High', name]].max(axis=1)\n",
    "    ll = data[['Low', name]].min(axis=1)\n",
    "    del data[name]\n",
    "    return(hh -ll)\n",
    "\n",
    "tr(data)\n",
    "data['TR'] = tr(data)"
   ]
  },
  {
   "cell_type": "code",
   "execution_count": 5,
   "metadata": {
    "collapsed": true
   },
   "outputs": [],
   "source": [
    "def ma(data, timespan):\n",
    "    return pd.rolling_mean(data['Adj Close'], timespan)\n",
    "short_span = 30\n",
    "long_span = 100\n",
    "data['sma'] = ma(data, short_span)\n",
    "data['lma'] = ma(data, long_span)"
   ]
  },
  {
   "cell_type": "code",
   "execution_count": 6,
   "metadata": {
    "collapsed": false
   },
   "outputs": [
    {
     "data": {
      "text/plain": [
       "<bound method DataFrame.tail of              Open   High    Low  ...     sma    lma   atr\n",
       "Date                             ...                     \n",
       "2005-01-03  15.63  15.80  15.55  ...     NaN    NaN   NaN\n",
       "2005-01-04  15.46  15.70  15.31  ...     NaN    NaN   NaN\n",
       "2005-01-05  15.50  15.88  15.42  ...     NaN    NaN   NaN\n",
       "2005-01-06  15.65  15.85  15.55  ...     NaN    NaN   NaN\n",
       "2005-01-07  15.79  15.86  15.50  ...     NaN    NaN   NaN\n",
       "...           ...    ...    ...  ...     ...    ...   ...\n",
       "2013-12-25  16.82  16.82  16.82  ...   16.01  15.76  0.42\n",
       "2013-12-26  16.82  16.82  16.82  ...   16.06  15.75  0.40\n",
       "2013-12-27  16.82  16.82  16.82  ...   16.10  15.75  0.39\n",
       "2013-12-30  16.82  16.82  16.82  ...   16.14  15.74  0.37\n",
       "2013-12-31  16.82  16.82  16.82  ...   16.18  15.73  0.36\n",
       "\n",
       "[2306 rows x 10 columns]>"
      ]
     },
     "execution_count": 6,
     "metadata": {},
     "output_type": "execute_result"
    }
   ],
   "source": [
    "data['atr'] = pd.rolling_mean(data['TR'], short_span)\n",
    "data.tail"
   ]
  },
  {
   "cell_type": "code",
   "execution_count": 7,
   "metadata": {
    "collapsed": false
   },
   "outputs": [
    {
     "data": {
      "text/plain": [
       "<bound method DataFrame.head of              Open   High    Low  ...     sma    lma   atr\n",
       "Date                             ...                     \n",
       "2005-05-23  10.70  10.70  10.26  ...    1.78   1.56  0.51\n",
       "2005-05-24  10.24  10.76  10.21  ...    1.78   1.56  0.51\n",
       "2005-05-25  10.65  10.71  10.50  ...    1.77   1.56  0.50\n",
       "2005-05-26  10.56  10.73  10.35  ...    1.75   1.56  0.47\n",
       "2005-05-27  10.30  10.52  10.20  ...    1.73   1.56  0.46\n",
       "...           ...    ...    ...  ...     ...    ...   ...\n",
       "2013-12-25  16.82  16.82  16.82  ...   16.01  15.76  0.42\n",
       "2013-12-26  16.82  16.82  16.82  ...   16.06  15.75  0.40\n",
       "2013-12-27  16.82  16.82  16.82  ...   16.10  15.75  0.39\n",
       "2013-12-30  16.82  16.82  16.82  ...   16.14  15.74  0.37\n",
       "2013-12-31  16.82  16.82  16.82  ...   16.18  15.73  0.36\n",
       "\n",
       "[2206 rows x 10 columns]>"
      ]
     },
     "execution_count": 7,
     "metadata": {},
     "output_type": "execute_result"
    }
   ],
   "source": [
    "data.drop(data[0:long_span].index, inplace = True)\n",
    "data.head"
   ]
  },
  {
   "cell_type": "code",
   "execution_count": 8,
   "metadata": {
    "collapsed": false
   },
   "outputs": [
    {
     "data": {
      "text/plain": [
       "             Open   High    Low ...     lma   atr  sig\n",
       "Date                            ...                   \n",
       "2013-12-04  16.67  17.09  16.60 ...   15.81  0.48    0\n",
       "2013-12-05  16.60  16.76  16.36 ...   15.82  0.49    0\n",
       "2013-12-06  16.50  16.65  16.26 ...   15.82  0.46    0\n",
       "2013-12-09  16.30  17.06  16.30 ...   15.81  0.47    0\n",
       "2013-12-10  17.00  17.08  16.75 ...   15.80  0.45    0\n",
       "...           ...    ...    ... ...     ...   ...  ...\n",
       "2013-12-25  16.82  16.82  16.82 ...   15.76  0.42    1\n",
       "2013-12-26  16.82  16.82  16.82 ...   15.75  0.40    1\n",
       "2013-12-27  16.82  16.82  16.82 ...   15.75  0.39    1\n",
       "2013-12-30  16.82  16.82  16.82 ...   15.74  0.37    1\n",
       "2013-12-31  16.82  16.82  16.82 ...   15.73  0.36    1\n",
       "\n",
       "[20 rows x 11 columns]"
      ]
     },
     "execution_count": 8,
     "metadata": {},
     "output_type": "execute_result"
    }
   ],
   "source": [
    "def gen_sig(data):\n",
    "    data['sig']= 0\n",
    "    data.loc[data.sma > data.lma, 'sig'] = 1\n",
    "\n",
    "gen_sig(data)\n",
    "data.tail(n=20)\n"
   ]
  },
  {
   "cell_type": "code",
   "execution_count": 16,
   "metadata": {
    "collapsed": false
   },
   "outputs": [
    {
     "data": {
      "text/plain": [
       "             Open   High    Low ...    lma   atr  sig\n",
       "Date                            ...                  \n",
       "2005-07-14  11.14  11.34  11.12 ...   1.65  0.52    0\n",
       "2005-07-15  11.29  11.29  10.90 ...   1.65  0.52    0\n",
       "2005-07-18  10.91  11.00  10.84 ...   1.65  0.51    1\n",
       "2005-07-19  10.92  11.16  10.90 ...   1.65  0.51    1\n",
       "2005-07-20  11.00  11.26  10.96 ...   1.65  0.48    1\n",
       "...           ...    ...    ... ...    ...   ...  ...\n",
       "2005-08-08  13.80  14.28  13.62 ...   1.69  0.44    1\n",
       "2005-08-09  13.74  14.54  13.71 ...   1.70  0.45    1\n",
       "2005-08-10  13.96  14.00  13.61 ...   1.70  0.46    1\n",
       "2005-08-11  13.91  14.09  13.71 ...   1.71  0.45    1\n",
       "2005-08-12  14.02  14.49  13.75 ...   1.72  0.46    1\n",
       "\n",
       "[22 rows x 11 columns]"
      ]
     },
     "execution_count": 16,
     "metadata": {},
     "output_type": "execute_result"
    }
   ],
   "source": [
    "entry_days = data[data.sig > data.sig.shift()].index\n",
    "i = data.index.get_loc(entry_days[0])\n",
    "data[i-2 :i + 20]"
   ]
  },
  {
   "cell_type": "code",
   "execution_count": 15,
   "metadata": {
    "collapsed": false
   },
   "outputs": [
    {
     "data": {
      "text/plain": [
       "             Open   High    Low ...    lma   atr  sig\n",
       "Date                            ...                  \n",
       "2005-06-14  10.55  10.68  10.18 ...   1.58  0.46    1\n",
       "2005-06-15  10.16  10.39   9.96 ...   1.58  0.46    1\n",
       "2005-06-16  10.18  10.75  10.11 ...   1.58  0.47    0\n",
       "2005-06-17  10.69  10.80  10.35 ...   1.59  0.47    0\n",
       "2005-06-20  10.65  11.30  10.55 ...   1.59  0.47    0\n",
       "...           ...    ...    ... ...    ...   ...  ...\n",
       "2005-07-07  10.60  10.78  10.55 ...   1.64  0.51    0\n",
       "2005-07-08  10.77  10.77  10.42 ...   1.64  0.51    0\n",
       "2005-07-11  10.68  10.97  10.53 ...   1.64  0.52    0\n",
       "2005-07-12  10.65  11.39  10.51 ...   1.65  0.53    0\n",
       "2005-07-13  11.23  11.36  11.06 ...   1.65  0.52    0\n",
       "\n",
       "[22 rows x 11 columns]"
      ]
     },
     "execution_count": 15,
     "metadata": {},
     "output_type": "execute_result"
    }
   ],
   "source": [
    "exit_days = data[data.sig < data.sig.shift()].index\n",
    "exit_days[1]\n",
    "\n",
    "i = data.index.get_loc(exit_days[0])\n",
    "data[i-2 :i + 20]"
   ]
  },
  {
   "cell_type": "code",
   "execution_count": 30,
   "metadata": {
    "collapsed": false
   },
   "outputs": [
    {
     "data": {
      "text/plain": [
       "<matplotlib.axes._subplots.AxesSubplot at 0xd0884a8>"
      ]
     },
     "execution_count": 30,
     "metadata": {},
     "output_type": "execute_result"
    },
    {
     "data": {
      "image/png": "[encoded data removed]",
      "text/plain": [
       "<matplotlib.figure.Figure at 0xd088128>"
      ]
     },
     "metadata": {},
     "output_type": "display_data"
    }
   ],
   "source": [
    "from datetime import timedelta \n",
    "def get_trans(data, index, entry_days, exit_days):\n",
    "    start_date = entry_days[index]\n",
    "    end_date = exit_days[index]\n",
    "    if start_date > end_date and index < len(exit_days)-1:\n",
    "        end_date = exit_days[index + 1]\n",
    "    elif start_date > end_date:\n",
    "        end_date = data.index[-1]\n",
    "    \n",
    "    end_date = end_date - timedelta(days=1)\n",
    "    return data[start_date : end_date ].copy()\n",
    "\n",
    "#print(entry_days[0], exit_days[0])\n",
    "#entry_days[0] > exit_days[0]\n",
    "get_trans(data, 0, entry_days, exit_days)\n",
    "\n",
    "\n",
    "trans_1 = get_trans(data, 0, entry_days, exit_days)\n",
    "price_change = trans_1['Adj Close'].pct_change()\n",
    "ret = ( price_change + 1).cumprod()\n",
    "trans_1[['Close', 'lma', 'sma']].plot()\n",
    "ret.plot()\n",
    "\n",
    "# and ax2 is in the lower row"
   ]
  },
  {
   "cell_type": "code",
   "execution_count": 81,
   "metadata": {
    "collapsed": false
   },
   "outputs": [
    {
     "name": "stdout",
     "output_type": "stream",
     "text": [
      "2006-02-20 00:00:00\n"
     ]
    },
    {
     "data": {
      "text/plain": [
       "0.9606982887332033"
      ]
     },
     "execution_count": 81,
     "metadata": {},
     "output_type": "execute_result"
    }
   ],
   "source": [
    "def get_first_date(dates):\n",
    "    if len(dates) > 0 :\n",
    "        return dates[0]\n",
    "    else:\n",
    "        return None\n",
    "    \n",
    "def get_not_none_date(date1, date2):\n",
    "    if date1 is None:\n",
    "        return date2\n",
    "    else:\n",
    "        return date1\n",
    "\n",
    "def get_stopl_date(data, stop_at_pct):\n",
    "    '''获取止损时间\n",
    "    data 交易信号存在数据\n",
    "    stop_at_pct 止损百分比\n",
    "    '''\n",
    "    data['cum_prod'] = (data['Adj Close'].pct_change() + 1).cumprod()\n",
    "    stops = data[data.cum_prod < stop_at_pct].index\n",
    "    return get_not_none_date(get_first_date(stops), data.index[-1])\n",
    "  \n",
    "# test for get_stopl_date function\n",
    "trans2 = get_trans(data, 1, entry_days, exit_days)\n",
    "print(get_stopl_date(trans2, 0.97))\n",
    "np.min(trans2.cum_prod)\n",
    "\n"
   ]
  },
  {
   "cell_type": "code",
   "execution_count": 82,
   "metadata": {
    "collapsed": false
   },
   "outputs": [
    {
     "name": "stdout",
     "output_type": "stream",
     "text": [
      "0.488331666667\n",
      "2006-02-16 00:00:00\n",
      "(15.279999999999999, 14.49001)\n"
     ]
    },
    {
     "data": {
      "text/plain": [
       "Date\n",
       "2006-02-03    14.25\n",
       "2006-02-06    14.69\n",
       "2006-02-07    14.33\n",
       "2006-02-08    14.57\n",
       "2006-02-09    14.68\n",
       "              ...  \n",
       "2006-08-14    11.05\n",
       "2006-08-15    11.20\n",
       "2006-08-16    11.41\n",
       "2006-08-17    11.20\n",
       "2006-08-18    11.24\n",
       "Name: Close, dtype: float64"
      ]
     },
     "execution_count": 82,
     "metadata": {},
     "output_type": "execute_result"
    }
   ],
   "source": [
    "\n",
    "def get_trailstop_date(data, trailstop):\n",
    "    '''获取跟踪止损日期'''\n",
    "    \n",
    "    data['cum_max'] = data['Close'].cummax()\n",
    "    stops = data[data['cum_max']-data['Close'] > trailstop].index\n",
    "    return get_not_none_date(get_first_date(stops), data.index[-1])\n",
    "\n",
    "trailstop =  trans2.iloc[0].atr\n",
    "print(trailstop)\n",
    "ts_at = get_trailstop_date(trans2, trailstop)\n",
    "print(ts_at)\n",
    "if not ts_at is None:\n",
    "   print(trans2.loc[ts_at, 'cum_max'], trans2.loc[ts_at, 'Close'])\n",
    "\n",
    "trans2['Close']"
   ]
  },
  {
   "cell_type": "code",
   "execution_count": 148,
   "metadata": {
    "collapsed": false
   },
   "outputs": [],
   "source": [
    "stoplevel = 0.95\n",
    "ts_factor = 1\n",
    "\n",
    "    \n",
    "for i in range(0, len(entry_days)):\n",
    "    tran = get_trans(data, i, entry_days, exit_days)\n",
    "    \n",
    "    stop_at = get_stopl_date(tran, 0.95)\n",
    "    trailstop = ts_factor* tran.iloc[0].atr\n",
    "    trails_at = get_trailstop_date(tran, trailstop)\n",
    "    real_stop_at = min(stop_at, trails_at)\n",
    "    \n",
    "    tran[]plot()\n",
    "    "
   ]
  },
  {
   "cell_type": "code",
   "execution_count": 149,
   "metadata": {
    "collapsed": false
   },
   "outputs": [
    {
     "data": {
      "text/plain": [
       "7"
      ]
     },
     "execution_count": 149,
     "metadata": {},
     "output_type": "execute_result"
    }
   ],
   "source": [
    "ax1 = plt.subplot2grid(shape=(2,1), loc=(0,0))\n",
    "ax2 = plt.subplot2grid(shape=(2,1), loc=(1,0))\n",
    "\n",
    "vkhsw[['norm_ret', 'ret']].plot(ax = ax1)\n",
    "vkhsw[[ 'long_ma', 'short_ma']].plot(ax = ax2)\n",
    "trans_count = vkhsw[vkhsw.sig > vkhsw.shift().sig]"
   ]
  },
  {
   "cell_type": "code",
   "execution_count": 80,
   "metadata": {
    "collapsed": false
   },
   "outputs": [
    {
     "data": {
      "text/plain": [
       "Timestamp('2006-08-18 00:00:00')"
      ]
     },
     "execution_count": 80,
     "metadata": {},
     "output_type": "execute_result"
    }
   ],
   "source": [
    "trans2.index[-1]"
   ]
  },
  {
   "cell_type": "code",
   "execution_count": 151,
   "metadata": {
    "collapsed": false
   },
   "outputs": [
    {
     "data": {
      "text/plain": [
       "Open        7\n",
       "High        7\n",
       "Low         7\n",
       "Close       7\n",
       "Volume      7\n",
       "           ..\n",
       "TR          7\n",
       "ATR         7\n",
       "sig         7\n",
       "ret         7\n",
       "norm_ret    7\n",
       "dtype: int64"
      ]
     },
     "execution_count": 151,
     "metadata": {},
     "output_type": "execute_result"
    }
   ],
   "source": [
    "exit_count = vkhsw[vkhsw.sig < vkhsw.shift().sig]\n",
    "exit_count.count()"
   ]
  },
  {
   "cell_type": "code",
   "execution_count": 152,
   "metadata": {
    "collapsed": false
   },
   "outputs": [],
   "source": [
    "trans_idx = (trans_count + exit_count).index"
   ]
  },
  {
   "cell_type": "code",
   "execution_count": 153,
   "metadata": {
    "collapsed": false
   },
   "outputs": [
    {
     "data": {
      "text/plain": [
       "0    0\n",
       "1    0\n",
       "2    0\n",
       "3    0\n",
       "4    0\n",
       "5    0\n",
       "6    0\n",
       "dtype: float64"
      ]
     },
     "execution_count": 153,
     "metadata": {},
     "output_type": "execute_result"
    }
   ],
   "source": [
    "max_return = pd.Series([0.0]*len(trans_count))\n",
    "max_drawdown = max_return.copy()\n",
    "exit_return = max_drawdown.copy()\n",
    "max_return"
   ]
  },
  {
   "cell_type": "code",
   "execution_count": 154,
   "metadata": {
    "collapsed": false
   },
   "outputs": [],
   "source": [
    "for i in range(0, len(trans_idx)//2):\n",
    "    idx = i *2\n",
    "    trading_days = vkhsw[trans_idx[idx]:trans_idx[idx+1] ].copy()\n",
    "    day_len = len(trading_days)\n",
    "    trading_days.ret = (1+trading_days[\"Adj Close\"].pct_change()).cumprod()\n",
    "    trading_days.norm_ret = trading_days.ret /trading_days.ret.cummax()#use to calc rolling max\n",
    "    max_return[i], max_drawdown[i], exit_return[i] = trade_summ(trading_days, trans_idx[idx+1])"
   ]
  },
  {
   "cell_type": "code",
   "execution_count": 155,
   "metadata": {
    "collapsed": false
   },
   "outputs": [
    {
     "data": {
      "text/plain": [
       "      0     1     2  ...      4     5     6\n",
       "0  1.27  0.98  1.14  ...   1.49  1.23  2.28\n",
       "1  0.29  0.07  0.16  ...   0.23  0.20  0.53\n",
       "2  0.91  0.91  1.02  ...   1.31  1.05  1.17\n",
       "\n",
       "[3 rows x 7 columns]"
      ]
     },
     "execution_count": 155,
     "metadata": {},
     "output_type": "execute_result"
    }
   ],
   "source": [
    "trade_summary = pd.DataFrame([max_return, max_drawdown, exit_return])\n",
    "trade_summary"
   ]
  },
  {
   "cell_type": "code",
   "execution_count": 29,
   "metadata": {
    "collapsed": true
   },
   "outputs": [],
   "source": [
    "last_return = exit_return.cumprod()"
   ]
  },
  {
   "cell_type": "code",
   "execution_count": 80,
   "metadata": {
    "collapsed": false
   },
   "outputs": [],
   "source": [
    "\n",
    "def trade_summ( data, at):\n",
    "    max_ret = np.max(data.ret)\n",
    "    max_dd = 1 - np.min(data.norm_ret)\n",
    "    exit_ret = data.ret.loc[at]\n",
    "    return (max_ret, max_dd, exit_ret)"
   ]
  },
  {
   "cell_type": "code",
   "execution_count": 122,
   "metadata": {
    "collapsed": false
   },
   "outputs": [
    {
     "name": "stdout",
     "output_type": "stream",
     "text": [
      "2011-01-17 00:00:00\n",
      "2011-12-13 00:00:00\n",
      "2012-05-25 00:00:00\n",
      "NaT\n",
      "NaT\n",
      "NaT\n",
      "NaT\n"
     ]
    }
   ],
   "source": [
    "\n",
    "stoploss = 0.95\n",
    "for i in range(0, len(trans_idx)//2):\n",
    "    idx = i *2\n",
    "    trading_days = vkhsw[trans_idx[idx]:trans_idx[idx+1] ].copy()\n",
    "    day_len = len(trading_days)\n",
    "    trading_days.ret = (1+trading_days[\"Adj Close\"].pct_change()).cumprod()\n",
    "    trading_days.norm_ret = trading_days.ret /trading_days.ret.cummax()#use to calc rolling max\n",
    "    \n",
    "    # stop loss filter\n",
    "    trading_days['stopex'] = 0 \n",
    "    trading_days.loc[trading_days.ret < stoploss, 'stopex'] = 1\n",
    "    stop_at = trading_days[trading_days.stopex == 1].index.min()\n",
    "    print stop_at\n",
    "    \n",
    "    # trailing stop filter\n",
    "    tr_stop = 3 * trading_days.loc[ trans_idx[idx], 'ATR']\n",
    "    tr_sig = abs(trading_days.Close - trading_days.Close.cumsum()) > tr_stop \n",
    "    \n",
    "    if  not stop_at.year > 0: stop_at = trans_idx[idx+1]\n",
    "    stop_tds = trading_days[:stop_at].copy()            \n",
    "    max_return[i], max_drawdown[i], exit_return[i] = trade_summ(stop_tds, stop_at)\n",
    "    \n"
   ]
  },
  {
   "cell_type": "code",
   "execution_count": 165,
   "metadata": {
    "collapsed": false
   },
   "outputs": [],
   "source": [
    "test = vkhsw['20111206': '20111220'].copy()\n",
    "# test for trailing stop\n",
    "test.loc[abs(test.Close - test.Close.cummax())>1, 'sig'] =1 "
   ]
  },
  {
   "cell_type": "code",
   "execution_count": 133,
   "metadata": {
    "collapsed": false
   },
   "outputs": [
    {
     "data": {
      "text/plain": [
       "             Open   High    Low    ...      norm_ret  stopex  prevClose\n",
       "Date                               ...                                 \n",
       "2011-12-06  12.30  12.45  12.16    ...          0.87       1        NaN\n",
       "2011-12-07  12.42  12.75  12.35    ...          0.89       1      12.38\n",
       "2011-12-08  12.51  12.66  12.16    ...          0.87       1      12.61\n",
       "\n",
       "[3 rows x 14 columns]"
      ]
     },
     "execution_count": 133,
     "metadata": {},
     "output_type": "execute_result"
    }
   ],
   "source": [
    "test['prevClose'] = test.shift(1).Close\n",
    "test"
   ]
  },
  {
   "cell_type": "code",
   "execution_count": 135,
   "metadata": {
    "collapsed": false
   },
   "outputs": [
    {
     "data": {
      "text/plain": [
       "Date\n",
       "2011-12-06    0.29\n",
       "2011-12-07    0.40\n",
       "2011-12-08    0.50\n",
       "dtype: float64"
      ]
     },
     "execution_count": 135,
     "metadata": {},
     "output_type": "execute_result"
    }
   ],
   "source": [
    "test[['High', 'prevClose']].max(axis=1) - test[['Low', 'prevClose']].min(axis=1)"
   ]
  },
  {
   "cell_type": "code",
   "execution_count": 166,
   "metadata": {
    "collapsed": false
   },
   "outputs": [
    {
     "data": {
      "text/plain": [
       "             Open   High    Low    ...     sig   ret  norm_ret\n",
       "Date                               ...                        \n",
       "2011-12-06  12.30  12.45  12.16    ...       0  0.92      0.87\n",
       "2011-12-07  12.42  12.75  12.35    ...       1  0.94      0.89\n",
       "2011-12-08  12.51  12.66  12.16    ...       1  0.92      0.87\n",
       "2011-12-09  12.18  12.42  12.16    ...       1  0.91      0.86\n",
       "2011-12-12  12.23  12.39  12.20    ...       1  0.91      0.86\n",
       "...           ...    ...    ...    ...     ...   ...       ...\n",
       "2011-12-14  11.90  12.05  11.77    ...       1  0.88      0.83\n",
       "2011-12-15  11.73  11.88  11.11    ...       1  0.88      0.81\n",
       "2011-12-16  11.44  11.68  11.15    ...       0  0.88      0.82\n",
       "2011-12-19  11.48  11.62  11.19    ...       1  0.88      0.81\n",
       "2011-12-20  11.58  11.88  11.50    ...       0  0.88      0.82\n",
       "\n",
       "[11 rows x 15 columns]"
      ]
     },
     "execution_count": 166,
     "metadata": {},
     "output_type": "execute_result"
    }
   ],
   "source": [
    "test"
   ]
  },
  {
   "cell_type": "code",
   "execution_count": null,
   "metadata": {
    "collapsed": true
   },
   "outputs": [],
   "source": []
  }
 ],
 "metadata": {
  "kernelspec": {
   "display_name": "Python 2",
   "language": "python",
   "name": "python2"
  },
  "language_info": {
   "codemirror_mode": {
    "name": "ipython",
    "version": 2
   },
   "file_extension": ".py",
   "mimetype": "text/x-python",
   "name": "python",
   "nbconvert_exporter": "python",
   "pygments_lexer": "ipython2",
   "version": "2.7.10"
  }
 },
 "nbformat": 4,
 "nbformat_minor": 0
}
