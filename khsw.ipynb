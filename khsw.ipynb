{
 "cells": [
  {
   "cell_type": "code",
   "execution_count": 3,
   "metadata": {
    "collapsed": false
   },
   "outputs": [],
   "source": [
    "import pandas as pd\n",
    "import pandas.io.data as web\n",
    "import numpy as np\n",
    "import datetime\n",
    "import matplotlib.pyplot as plt\n",
    "%matplotlib inline\n",
    "pd.set_option('display.notebook_repr_html', False)\n",
    "pd.set_option('display.max_columns', 6)\n",
    "pd.set_option('display.max_rows', 10)\n",
    "pd.set_option('display.width', 78)\n",
    "pd.set_option('precision', 3)"
   ]
  },
  {
   "cell_type": "code",
   "execution_count": 4,
   "metadata": {
    "collapsed": false
   },
   "outputs": [],
   "source": [
    "# get data from yahoo finance\n",
    "def get_data(symbol, start, end):\n",
    "    return web.DataReader(symbol, 'yahoo', start, end)\n",
    "symbol = '002022.SZ'\n",
    "start = '20050101'\n",
    "end = '20131231'\n",
    "data = get_data(symbol, start, end)"
   ]
  },
  {
   "cell_type": "code",
   "execution_count": 6,
   "metadata": {
    "collapsed": false
   },
   "outputs": [],
   "source": [
    "def tr(data):\n",
    "    ''' generate true range TR tech signal'''\n",
    "    name = 'prev_value'\n",
    "    data[name] = data.shift(1).Close\n",
    "    hh = data[['High', name]].max(axis=1)\n",
    "    ll = data[['Low', name]].min(axis=1)\n",
    "    del data[name]\n",
    "    return(hh -ll)\n",
    "\n",
    "tr(data)\n",
    "data['TR'] = tr(data)"
   ]
  },
  {
   "cell_type": "code",
   "execution_count": 7,
   "metadata": {
    "collapsed": true
   },
   "outputs": [],
   "source": [
    "def ma(data, timespan):\n",
    "    return pd.rolling_mean(data['Adj Close'], timespan)\n",
    "short_span = 30\n",
    "long_span = 100\n",
    "data['sma'] = ma(data, short_span)\n",
    "data['lma'] = ma(data, long_span)"
   ]
  },
  {
   "cell_type": "code",
   "execution_count": 8,
   "metadata": {
    "collapsed": false
   },
   "outputs": [
    {
     "data": {
      "text/plain": [
       "<bound method DataFrame.tail of              Open   High    Low  ...     sma    lma   atr\n",
       "Date                             ...                     \n",
       "2005-01-03  15.63  15.80  15.55  ...     NaN    NaN   NaN\n",
       "2005-01-04  15.46  15.70  15.31  ...     NaN    NaN   NaN\n",
       "2005-01-05  15.50  15.88  15.42  ...     NaN    NaN   NaN\n",
       "2005-01-06  15.65  15.85  15.55  ...     NaN    NaN   NaN\n",
       "2005-01-07  15.79  15.86  15.50  ...     NaN    NaN   NaN\n",
       "...           ...    ...    ...  ...     ...    ...   ...\n",
       "2013-12-25  16.82  16.82  16.82  ...   16.01  15.76  0.42\n",
       "2013-12-26  16.82  16.82  16.82  ...   16.06  15.75  0.40\n",
       "2013-12-27  16.82  16.82  16.82  ...   16.10  15.75  0.39\n",
       "2013-12-30  16.82  16.82  16.82  ...   16.14  15.74  0.37\n",
       "2013-12-31  16.82  16.82  16.82  ...   16.18  15.73  0.36\n",
       "\n",
       "[2306 rows x 10 columns]>"
      ]
     },
     "execution_count": 8,
     "metadata": {},
     "output_type": "execute_result"
    }
   ],
   "source": [
    "data['atr'] = pd.rolling_mean(data['TR'], short_span)\n",
    "data.tail"
   ]
  },
  {
   "cell_type": "code",
   "execution_count": 14,
   "metadata": {
    "collapsed": false
   },
   "outputs": [
    {
     "data": {
      "text/plain": [
       "<bound method DataFrame.head of              Open   High    Low  ...     sma    lma   atr\n",
       "Date                             ...                     \n",
       "2005-05-23  10.70  10.70  10.26  ...    1.78   1.56  0.51\n",
       "2005-05-24  10.24  10.76  10.21  ...    1.78   1.56  0.51\n",
       "2005-05-25  10.65  10.71  10.50  ...    1.77   1.56  0.50\n",
       "2005-05-26  10.56  10.73  10.35  ...    1.75   1.56  0.47\n",
       "2005-05-27  10.30  10.52  10.20  ...    1.73   1.56  0.46\n",
       "...           ...    ...    ...  ...     ...    ...   ...\n",
       "2013-12-25  16.82  16.82  16.82  ...   16.01  15.76  0.42\n",
       "2013-12-26  16.82  16.82  16.82  ...   16.06  15.75  0.40\n",
       "2013-12-27  16.82  16.82  16.82  ...   16.10  15.75  0.39\n",
       "2013-12-30  16.82  16.82  16.82  ...   16.14  15.74  0.37\n",
       "2013-12-31  16.82  16.82  16.82  ...   16.18  15.73  0.36\n",
       "\n",
       "[2206 rows x 10 columns]>"
      ]
     },
     "execution_count": 14,
     "metadata": {},
     "output_type": "execute_result"
    }
   ],
   "source": [
    "data.drop(data[0:long_span].index, inplace = True)\n",
    "data.head"
   ]
  },
  {
   "cell_type": "code",
   "execution_count": 15,
   "metadata": {
    "collapsed": false
   },
   "outputs": [
    {
     "data": {
      "text/plain": [
       "             Open   High    Low ...     lma   atr  sig\n",
       "Date                            ...                   \n",
       "2013-12-04  16.67  17.09  16.60 ...   15.81  0.48    0\n",
       "2013-12-05  16.60  16.76  16.36 ...   15.82  0.49    0\n",
       "2013-12-06  16.50  16.65  16.26 ...   15.82  0.46    0\n",
       "2013-12-09  16.30  17.06  16.30 ...   15.81  0.47    0\n",
       "2013-12-10  17.00  17.08  16.75 ...   15.80  0.45    0\n",
       "...           ...    ...    ... ...     ...   ...  ...\n",
       "2013-12-25  16.82  16.82  16.82 ...   15.76  0.42    1\n",
       "2013-12-26  16.82  16.82  16.82 ...   15.75  0.40    1\n",
       "2013-12-27  16.82  16.82  16.82 ...   15.75  0.39    1\n",
       "2013-12-30  16.82  16.82  16.82 ...   15.74  0.37    1\n",
       "2013-12-31  16.82  16.82  16.82 ...   15.73  0.36    1\n",
       "\n",
       "[20 rows x 11 columns]"
      ]
     },
     "execution_count": 15,
     "metadata": {},
     "output_type": "execute_result"
    }
   ],
   "source": [
    "def gen_sig(data):\n",
    "    data['sig']= 0\n",
    "    data.loc[data.sma > data.lma, 'sig'] = 1\n",
    "\n",
    "gen_sig(data)\n",
    "data.tail(n=20)\n"
   ]
  },
  {
   "cell_type": "code",
   "execution_count": 31,
   "metadata": {
    "collapsed": false
   },
   "outputs": [
    {
     "data": {
      "text/plain": [
       "<class 'pandas.tseries.index.DatetimeIndex'>\n",
       "[2005-07-18, ..., 2013-12-19]\n",
       "Length: 15, Freq: None, Timezone: None"
      ]
     },
     "execution_count": 31,
     "metadata": {},
     "output_type": "execute_result"
    }
   ],
   "source": [
    "entry_days = data[data.sig > data.sig.shift()].index\n",
    "entry_days"
   ]
  },
  {
   "cell_type": "code",
   "execution_count": 46,
   "metadata": {
    "collapsed": false
   },
   "outputs": [
    {
     "data": {
      "text/plain": [
       "             Open   High    Low ...    lma   atr  sig\n",
       "Date                            ...                  \n",
       "2005-11-22  13.95  14.08  13.67 ...   2.10  0.52    1\n",
       "2005-11-23  13.65  14.21  13.58 ...   2.10  0.54    1\n",
       "2005-11-24  14.19  14.19  13.75 ...   2.11  0.56    0\n",
       "2005-11-25  13.89  14.00  13.68 ...   2.11  0.57    0\n",
       "2005-11-28  13.75  13.90  13.50 ...   2.12  0.58    0\n",
       "...           ...    ...    ... ...    ...   ...  ...\n",
       "2005-12-15  13.28  13.50  13.17 ...   2.16  0.54    0\n",
       "2005-12-16  13.28  13.40  13.13 ...   2.16  0.52    0\n",
       "2005-12-19  13.30  13.44  13.10 ...   2.16  0.51    0\n",
       "2005-12-20  13.18  13.18  12.78 ...   2.17  0.51    0\n",
       "2005-12-21  12.93  12.97  12.70 ...   2.17  0.49    0\n",
       "\n",
       "[22 rows x 11 columns]"
      ]
     },
     "execution_count": 46,
     "metadata": {},
     "output_type": "execute_result"
    }
   ],
   "source": [
    "exit_days = data[data.sig < data.sig.shift()].index\n",
    "exit_days[1]\n",
    "\n",
    "i = data.index.get_loc(exit_days[1])\n",
    "data[i-2 :i + 20]"
   ]
  },
  {
   "cell_type": "code",
   "execution_count": 145,
   "metadata": {
    "collapsed": false
   },
   "outputs": [
    {
     "data": {
      "text/plain": [
       "             Open   High    Low ...     TR   ATR  sig\n",
       "Date                            ...                  \n",
       "2010-10-29  17.23  17.40  16.72 ...   0.68  0.69    1\n",
       "2010-11-01  17.48  17.77  17.30 ...   0.47  0.69    1\n",
       "2010-11-02  17.60  17.77  17.21 ...   0.56  0.68    1\n",
       "2010-11-03  17.21  17.32  16.80 ...   0.52  0.67    1\n",
       "2010-11-04  16.93  17.50  16.91 ...   0.59  0.66    1\n",
       "...           ...    ...    ... ...    ...   ...  ...\n",
       "2015-07-23  37.00  38.47  36.57 ...   1.90  3.59    1\n",
       "2015-07-24  38.19  40.99  37.56 ...   3.43  3.49    1\n",
       "2015-07-27  38.00  39.24  34.92 ...   4.32  3.47    1\n",
       "2015-07-28  32.93  34.00  31.43 ...   3.49  3.42    1\n",
       "2015-07-29  32.69  33.48  29.11 ...   4.37  3.40    1\n",
       "\n",
       "[702 rows x 13 columns]"
      ]
     },
     "execution_count": 145,
     "metadata": {},
     "output_type": "execute_result"
    }
   ],
   "source": [
    "vkhsw.loc[vkhsw.sig==1]"
   ]
  },
  {
   "cell_type": "code",
   "execution_count": 146,
   "metadata": {
    "collapsed": false
   },
   "outputs": [],
   "source": [
    "vkhsw['ret'] = (vkhsw.sig*vkhsw.change + 1).cumprod()\n",
    "vkhsw['norm_ret'] = (vkhsw.change +1).cumprod()\n",
    "\n",
    "# and ax2 is in the lower row\n",
    "\n"
   ]
  },
  {
   "cell_type": "code",
   "execution_count": 147,
   "metadata": {
    "collapsed": false
   },
   "outputs": [
    {
     "data": {
      "text/plain": [
       "<matplotlib.axes._subplots.AxesSubplot at 0xd0f05f8>"
      ]
     },
     "execution_count": 147,
     "metadata": {},
     "output_type": "execute_result"
    },
    {
     "data": {
      "image/png": "[encoded data removed]",
      "text/plain": [
       "<matplotlib.figure.Figure at 0xd0e4a90>"
      ]
     },
     "metadata": {},
     "output_type": "display_data"
    }
   ],
   "source": [
    "ax1 = plt.subplot2grid(shape=(2,1), loc=(0,0))\n",
    "ax2 = plt.subplot2grid(shape=(2,1), loc=(1,0))\n",
    "\n",
    "vkhsw[['norm_ret', 'ret']].plot(ax = ax1)\n",
    "vkhsw[[ 'long_ma', 'short_ma']].plot(ax = ax2)"
   ]
  },
  {
   "cell_type": "code",
   "execution_count": 148,
   "metadata": {
    "collapsed": false
   },
   "outputs": [],
   "source": [
    "trans_count = vkhsw[vkhsw.sig > vkhsw.shift().sig]"
   ]
  },
  {
   "cell_type": "code",
   "execution_count": 149,
   "metadata": {
    "collapsed": false
   },
   "outputs": [
    {
     "data": {
      "text/plain": [
       "7"
      ]
     },
     "execution_count": 149,
     "metadata": {},
     "output_type": "execute_result"
    }
   ],
   "source": [
    "len(trans_count)"
   ]
  },
  {
   "cell_type": "code",
   "execution_count": 150,
   "metadata": {
    "collapsed": false
   },
   "outputs": [
    {
     "data": {
      "text/plain": [
       "             Open   High    Low    ...     sig   ret  norm_ret\n",
       "Date                               ...                        \n",
       "2011-12-06  12.30  12.45  12.16    ...       0  0.92      0.87\n",
       "2011-12-07  12.42  12.75  12.35    ...       1  0.94      0.89\n",
       "2011-12-08  12.51  12.66  12.16    ...       1  0.92      0.87\n",
       "\n",
       "[3 rows x 15 columns]"
      ]
     },
     "execution_count": 150,
     "metadata": {},
     "output_type": "execute_result"
    }
   ],
   "source": [
    "vkhsw['20111206': '20111208']"
   ]
  },
  {
   "cell_type": "code",
   "execution_count": 151,
   "metadata": {
    "collapsed": false
   },
   "outputs": [
    {
     "data": {
      "text/plain": [
       "Open        7\n",
       "High        7\n",
       "Low         7\n",
       "Close       7\n",
       "Volume      7\n",
       "           ..\n",
       "TR          7\n",
       "ATR         7\n",
       "sig         7\n",
       "ret         7\n",
       "norm_ret    7\n",
       "dtype: int64"
      ]
     },
     "execution_count": 151,
     "metadata": {},
     "output_type": "execute_result"
    }
   ],
   "source": [
    "exit_count = vkhsw[vkhsw.sig < vkhsw.shift().sig]\n",
    "exit_count.count()"
   ]
  },
  {
   "cell_type": "code",
   "execution_count": 152,
   "metadata": {
    "collapsed": false
   },
   "outputs": [],
   "source": [
    "trans_idx = (trans_count + exit_count).index"
   ]
  },
  {
   "cell_type": "code",
   "execution_count": 153,
   "metadata": {
    "collapsed": false
   },
   "outputs": [
    {
     "data": {
      "text/plain": [
       "0    0\n",
       "1    0\n",
       "2    0\n",
       "3    0\n",
       "4    0\n",
       "5    0\n",
       "6    0\n",
       "dtype: float64"
      ]
     },
     "execution_count": 153,
     "metadata": {},
     "output_type": "execute_result"
    }
   ],
   "source": [
    "max_return = pd.Series([0.0]*len(trans_count))\n",
    "max_drawdown = max_return.copy()\n",
    "exit_return = max_drawdown.copy()\n",
    "max_return"
   ]
  },
  {
   "cell_type": "code",
   "execution_count": 154,
   "metadata": {
    "collapsed": false
   },
   "outputs": [],
   "source": [
    "for i in range(0, len(trans_idx)//2):\n",
    "    idx = i *2\n",
    "    trading_days = vkhsw[trans_idx[idx]:trans_idx[idx+1] ].copy()\n",
    "    day_len = len(trading_days)\n",
    "    trading_days.ret = (1+trading_days[\"Adj Close\"].pct_change()).cumprod()\n",
    "    trading_days.norm_ret = trading_days.ret /trading_days.ret.cummax()#use to calc rolling max\n",
    "    max_return[i], max_drawdown[i], exit_return[i] = trade_summ(trading_days, trans_idx[idx+1])"
   ]
  },
  {
   "cell_type": "code",
   "execution_count": 155,
   "metadata": {
    "collapsed": false
   },
   "outputs": [
    {
     "data": {
      "text/plain": [
       "      0     1     2  ...      4     5     6\n",
       "0  1.27  0.98  1.14  ...   1.49  1.23  2.28\n",
       "1  0.29  0.07  0.16  ...   0.23  0.20  0.53\n",
       "2  0.91  0.91  1.02  ...   1.31  1.05  1.17\n",
       "\n",
       "[3 rows x 7 columns]"
      ]
     },
     "execution_count": 155,
     "metadata": {},
     "output_type": "execute_result"
    }
   ],
   "source": [
    "trade_summary = pd.DataFrame([max_return, max_drawdown, exit_return])\n",
    "trade_summary"
   ]
  },
  {
   "cell_type": "code",
   "execution_count": 29,
   "metadata": {
    "collapsed": true
   },
   "outputs": [],
   "source": [
    "last_return = exit_return.cumprod()"
   ]
  },
  {
   "cell_type": "code",
   "execution_count": 80,
   "metadata": {
    "collapsed": false
   },
   "outputs": [],
   "source": [
    "\n",
    "def trade_summ( data, at):\n",
    "    max_ret = np.max(data.ret)\n",
    "    max_dd = 1 - np.min(data.norm_ret)\n",
    "    exit_ret = data.ret.loc[at]\n",
    "    return (max_ret, max_dd, exit_ret)"
   ]
  },
  {
   "cell_type": "code",
   "execution_count": 122,
   "metadata": {
    "collapsed": false
   },
   "outputs": [
    {
     "name": "stdout",
     "output_type": "stream",
     "text": [
      "2011-01-17 00:00:00\n",
      "2011-12-13 00:00:00\n",
      "2012-05-25 00:00:00\n",
      "NaT\n",
      "NaT\n",
      "NaT\n",
      "NaT\n"
     ]
    }
   ],
   "source": [
    "\n",
    "stoploss = 0.95\n",
    "for i in range(0, len(trans_idx)//2):\n",
    "    idx = i *2\n",
    "    trading_days = vkhsw[trans_idx[idx]:trans_idx[idx+1] ].copy()\n",
    "    day_len = len(trading_days)\n",
    "    trading_days.ret = (1+trading_days[\"Adj Close\"].pct_change()).cumprod()\n",
    "    trading_days.norm_ret = trading_days.ret /trading_days.ret.cummax()#use to calc rolling max\n",
    "    \n",
    "    # stop loss filter\n",
    "    trading_days['stopex'] = 0 \n",
    "    trading_days.loc[trading_days.ret < stoploss, 'stopex'] = 1\n",
    "    stop_at = trading_days[trading_days.stopex == 1].index.min()\n",
    "    print stop_at\n",
    "    \n",
    "    # trailing stop filter\n",
    "    tr_stop = 3 * trading_days.loc[ trans_idx[idx], 'ATR']\n",
    "    tr_sig = abs(trading_days.Close - trading_days.Close.cumsum()) > tr_stop \n",
    "    \n",
    "    if  not stop_at.year > 0: stop_at = trans_idx[idx+1]\n",
    "    stop_tds = trading_days[:stop_at].copy()            \n",
    "    max_return[i], max_drawdown[i], exit_return[i] = trade_summ(stop_tds, stop_at)\n",
    "    \n"
   ]
  },
  {
   "cell_type": "code",
   "execution_count": 165,
   "metadata": {
    "collapsed": false
   },
   "outputs": [],
   "source": [
    "test = vkhsw['20111206': '20111220'].copy()\n",
    "# test for trailing stop\n",
    "test.loc[abs(test.Close - test.Close.cummax())>1, 'sig'] =1 "
   ]
  },
  {
   "cell_type": "code",
   "execution_count": 133,
   "metadata": {
    "collapsed": false
   },
   "outputs": [
    {
     "data": {
      "text/plain": [
       "             Open   High    Low    ...      norm_ret  stopex  prevClose\n",
       "Date                               ...                                 \n",
       "2011-12-06  12.30  12.45  12.16    ...          0.87       1        NaN\n",
       "2011-12-07  12.42  12.75  12.35    ...          0.89       1      12.38\n",
       "2011-12-08  12.51  12.66  12.16    ...          0.87       1      12.61\n",
       "\n",
       "[3 rows x 14 columns]"
      ]
     },
     "execution_count": 133,
     "metadata": {},
     "output_type": "execute_result"
    }
   ],
   "source": [
    "test['prevClose'] = test.shift(1).Close\n",
    "test"
   ]
  },
  {
   "cell_type": "code",
   "execution_count": 135,
   "metadata": {
    "collapsed": false
   },
   "outputs": [
    {
     "data": {
      "text/plain": [
       "Date\n",
       "2011-12-06    0.29\n",
       "2011-12-07    0.40\n",
       "2011-12-08    0.50\n",
       "dtype: float64"
      ]
     },
     "execution_count": 135,
     "metadata": {},
     "output_type": "execute_result"
    }
   ],
   "source": [
    "test[['High', 'prevClose']].max(axis=1) - test[['Low', 'prevClose']].min(axis=1)"
   ]
  },
  {
   "cell_type": "code",
   "execution_count": 166,
   "metadata": {
    "collapsed": false
   },
   "outputs": [
    {
     "data": {
      "text/plain": [
       "             Open   High    Low    ...     sig   ret  norm_ret\n",
       "Date                               ...                        \n",
       "2011-12-06  12.30  12.45  12.16    ...       0  0.92      0.87\n",
       "2011-12-07  12.42  12.75  12.35    ...       1  0.94      0.89\n",
       "2011-12-08  12.51  12.66  12.16    ...       1  0.92      0.87\n",
       "2011-12-09  12.18  12.42  12.16    ...       1  0.91      0.86\n",
       "2011-12-12  12.23  12.39  12.20    ...       1  0.91      0.86\n",
       "...           ...    ...    ...    ...     ...   ...       ...\n",
       "2011-12-14  11.90  12.05  11.77    ...       1  0.88      0.83\n",
       "2011-12-15  11.73  11.88  11.11    ...       1  0.88      0.81\n",
       "2011-12-16  11.44  11.68  11.15    ...       0  0.88      0.82\n",
       "2011-12-19  11.48  11.62  11.19    ...       1  0.88      0.81\n",
       "2011-12-20  11.58  11.88  11.50    ...       0  0.88      0.82\n",
       "\n",
       "[11 rows x 15 columns]"
      ]
     },
     "execution_count": 166,
     "metadata": {},
     "output_type": "execute_result"
    }
   ],
   "source": [
    "test"
   ]
  },
  {
   "cell_type": "code",
   "execution_count": null,
   "metadata": {
    "collapsed": true
   },
   "outputs": [],
   "source": []
  }
 ],
 "metadata": {
  "kernelspec": {
   "display_name": "Python 2",
   "language": "python",
   "name": "python2"
  },
  "language_info": {
   "codemirror_mode": {
    "name": "ipython",
    "version": 2
   },
   "file_extension": ".py",
   "mimetype": "text/x-python",
   "name": "python",
   "nbconvert_exporter": "python",
   "pygments_lexer": "ipython2",
   "version": "2.7.9"
  }
 },
 "nbformat": 4,
 "nbformat_minor": 0
}
