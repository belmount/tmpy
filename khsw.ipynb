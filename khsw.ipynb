{
 "cells": [
  {
   "cell_type": "code",
   "execution_count": 1,
   "metadata": {
    "collapsed": false
   },
   "outputs": [],
   "source": [
    "import pandas as pd\n",
    "import pandas.io.data as web\n",
    "import numpy as np\n",
    "import datetime\n",
    "import matplotlib.pyplot as plt\n",
    "%matplotlib inline\n",
    "pd.set_option('display.notebook_repr_html', False)\n",
    "pd.set_option('display.max_columns', 6)\n",
    "pd.set_option('display.max_rows', 10)\n",
    "pd.set_option('display.width', 78)\n",
    "pd.set_option('precision', 3)"
   ]
  },
  {
   "cell_type": "code",
   "execution_count": 2,
   "metadata": {
    "collapsed": false
   },
   "outputs": [],
   "source": [
    "# get data from yahoo finance\n",
    "def get_data(symbol, start, end):\n",
    "    return web.DataReader(symbol, 'yahoo', start, end)\n",
    "symbol = '002022.SZ'\n",
    "start = '20050101'\n",
    "end = '20131231'\n",
    "data = get_data(symbol, start, end)"
   ]
  },
  {
   "cell_type": "code",
   "execution_count": 3,
   "metadata": {
    "collapsed": false
   },
   "outputs": [],
   "source": [
    "def tr(data):\n",
    "    ''' generate true range TR tech signal'''\n",
    "    name = 'prev_value'\n",
    "    data[name] = data.shift(1).Close\n",
    "    hh = data[['High', name]].max(axis=1)\n",
    "    ll = data[['Low', name]].min(axis=1)\n",
    "    del data[name]\n",
    "    return(hh -ll)\n",
    "\n",
    "tr(data)\n",
    "data['TR'] = tr(data)"
   ]
  },
  {
   "cell_type": "code",
   "execution_count": 43,
   "metadata": {
    "collapsed": true
   },
   "outputs": [],
   "source": [
    "def ma(data, timespan):\n",
    "    return pd.rolling_mean(data['Close'], timespan)\n",
    "short_span = 30\n",
    "long_span = 100\n",
    "data['sma'] = ma(data, short_span)\n",
    "data['lma'] = ma(data, long_span)"
   ]
  },
  {
   "cell_type": "code",
   "execution_count": 44,
   "metadata": {
    "collapsed": false
   },
   "outputs": [
    {
     "data": {
      "text/plain": [
       "<bound method DataFrame.tail of              Open   High    Low ...     lma   atr  sig\n",
       "Date                            ...                   \n",
       "2005-10-10  15.56  15.56  15.56 ...     NaN   NaN    1\n",
       "2005-10-11  15.56  15.56  15.56 ...     NaN   NaN    1\n",
       "2005-10-12  15.56  15.56  15.56 ...     NaN   NaN    1\n",
       "2005-10-13  15.56  15.56  15.56 ...     NaN   NaN    1\n",
       "2005-10-14  15.56  15.56  15.56 ...     NaN   NaN    1\n",
       "...           ...    ...    ... ...     ...   ...  ...\n",
       "2013-12-25  16.82  16.82  16.82 ...   16.03  0.42    1\n",
       "2013-12-26  16.82  16.82  16.82 ...   16.03  0.40    1\n",
       "2013-12-27  16.82  16.82  16.82 ...   16.03  0.39    1\n",
       "2013-12-30  16.82  16.82  16.82 ...   16.01  0.37    1\n",
       "2013-12-31  16.82  16.82  16.82 ...   16.01  0.36    1\n",
       "\n",
       "[2106 rows x 11 columns]>"
      ]
     },
     "execution_count": 44,
     "metadata": {},
     "output_type": "execute_result"
    }
   ],
   "source": [
    "data['atr'] = pd.rolling_mean(data['TR'], short_span)\n",
    "data.tail"
   ]
  },
  {
   "cell_type": "code",
   "execution_count": 45,
   "metadata": {
    "collapsed": false
   },
   "outputs": [
    {
     "data": {
      "text/plain": [
       "<bound method DataFrame.head of              Open   High    Low ...     lma   atr  sig\n",
       "Date                            ...                   \n",
       "2006-02-27  14.20  14.38  14.05 ...   13.92  0.51    0\n",
       "2006-02-28  14.02  14.30  13.97 ...   13.91  0.50    0\n",
       "2006-03-01  14.36  14.96  14.32 ...   13.90  0.51    1\n",
       "2006-03-02  14.91  15.02  14.55 ...   13.89  0.51    1\n",
       "2006-03-03  14.90  15.75  14.81 ...   13.89  0.53    1\n",
       "...           ...    ...    ... ...     ...   ...  ...\n",
       "2013-12-25  16.82  16.82  16.82 ...   16.03  0.42    1\n",
       "2013-12-26  16.82  16.82  16.82 ...   16.03  0.40    1\n",
       "2013-12-27  16.82  16.82  16.82 ...   16.03  0.39    1\n",
       "2013-12-30  16.82  16.82  16.82 ...   16.01  0.37    1\n",
       "2013-12-31  16.82  16.82  16.82 ...   16.01  0.36    1\n",
       "\n",
       "[2006 rows x 11 columns]>"
      ]
     },
     "execution_count": 45,
     "metadata": {},
     "output_type": "execute_result"
    }
   ],
   "source": [
    "data.drop(data[0:long_span].index, inplace = True)\n",
    "data.head"
   ]
  },
  {
   "cell_type": "code",
   "execution_count": 46,
   "metadata": {
    "collapsed": false
   },
   "outputs": [
    {
     "data": {
      "text/plain": [
       "             Open   High    Low ...     lma   atr  sig\n",
       "Date                            ...                   \n",
       "2013-12-04  16.67  17.09  16.60 ...   16.09  0.48    0\n",
       "2013-12-05  16.60  16.76  16.36 ...   16.10  0.49    0\n",
       "2013-12-06  16.50  16.65  16.26 ...   16.09  0.46    0\n",
       "2013-12-09  16.30  17.06  16.30 ...   16.09  0.47    0\n",
       "2013-12-10  17.00  17.08  16.75 ...   16.08  0.45    0\n",
       "...           ...    ...    ... ...     ...   ...  ...\n",
       "2013-12-25  16.82  16.82  16.82 ...   16.03  0.42    1\n",
       "2013-12-26  16.82  16.82  16.82 ...   16.03  0.40    1\n",
       "2013-12-27  16.82  16.82  16.82 ...   16.03  0.39    1\n",
       "2013-12-30  16.82  16.82  16.82 ...   16.01  0.37    1\n",
       "2013-12-31  16.82  16.82  16.82 ...   16.01  0.36    1\n",
       "\n",
       "[20 rows x 11 columns]"
      ]
     },
     "execution_count": 46,
     "metadata": {},
     "output_type": "execute_result"
    }
   ],
   "source": [
    "def gen_sig(data):\n",
    "    data['sig']= 0\n",
    "    data.loc[(data.Close > data.sma) & (data.sma > data.lma), 'sig'] = 1\n",
    "\n",
    "gen_sig(data)\n",
    "data.tail(n=20)\n"
   ]
  },
  {
   "cell_type": "code",
   "execution_count": 47,
   "metadata": {
    "collapsed": false
   },
   "outputs": [
    {
     "data": {
      "text/plain": [
       "             Open   High    Low ...     lma   atr  sig\n",
       "Date                            ...                   \n",
       "2006-02-27  14.20  14.38  14.05 ...   13.92  0.51    0\n",
       "2006-02-28  14.02  14.30  13.97 ...   13.91  0.50    0\n",
       "2006-03-01  14.36  14.96  14.32 ...   13.90  0.51    1\n",
       "2006-03-02  14.91  15.02  14.55 ...   13.89  0.51    1\n",
       "2006-03-03  14.90  15.75  14.81 ...   13.89  0.53    1\n",
       "...           ...    ...    ... ...     ...   ...  ...\n",
       "2006-03-22  15.50  15.66  15.36 ...   14.00  0.50    1\n",
       "2006-03-23  15.30  15.78  15.30 ...   14.04  0.51    1\n",
       "2006-03-24  15.69  15.75  15.30 ...   14.07  0.51    1\n",
       "2006-03-27  15.25  15.38  15.02 ...   14.10  0.50    1\n",
       "2006-03-28  15.20  15.55  15.16 ...   14.12  0.50    1\n",
       "\n",
       "[22 rows x 11 columns]"
      ]
     },
     "execution_count": 47,
     "metadata": {},
     "output_type": "execute_result"
    }
   ],
   "source": [
    "entry_days = data[data.sig > data.sig.shift()].index\n",
    "i = data.index.get_loc(entry_days[0])\n",
    "data[i-2 :i + 20]"
   ]
  },
  {
   "cell_type": "code",
   "execution_count": 48,
   "metadata": {
    "collapsed": false
   },
   "outputs": [
    {
     "name": "stdout",
     "output_type": "stream",
     "text": [
      "DatetimeIndex(['2006-03-01', '2006-09-27', '2006-10-24', '2006-11-22',\n",
      "               '2006-11-27', '2007-03-15', '2007-06-21', '2007-07-19',\n",
      "               '2007-08-20', '2007-09-27', '2007-10-09', '2007-10-17',\n",
      "               '2007-12-10', '2007-12-24', '2008-03-03', '2008-12-16',\n",
      "               '2009-01-12', '2009-01-23', '2009-02-09', '2009-02-19',\n",
      "               '2009-10-09', '2009-10-19', '2009-12-30', '2010-01-14',\n",
      "               '2010-03-24', '2010-04-08', '2010-04-16', '2010-10-08',\n",
      "               '2010-10-25', '2010-12-13', '2012-04-20', '2012-05-10',\n",
      "               '2012-05-31', '2012-07-19', '2012-09-03', '2012-09-07',\n",
      "               '2013-01-28', '2013-03-20', '2013-03-28', '2013-04-03',\n",
      "               '2013-04-18', '2013-05-02', '2013-07-02', '2013-07-12',\n",
      "               '2013-08-19', '2013-08-27', '2013-09-24', '2013-12-19'],\n",
      "              dtype='datetime64[ns]', name=u'Date', freq=None, tz=None)\n",
      "DatetimeIndex(['2006-04-20', '2006-10-23', '2006-11-03', '2006-11-23',\n",
      "               '2007-02-27', '2007-04-16', '2007-07-16', '2007-08-10',\n",
      "               '2007-09-26', '2007-10-08', '2007-10-15', '2007-11-09',\n",
      "               '2007-12-13', '2008-02-25', '2008-03-10', '2009-01-07',\n",
      "               '2009-01-15', '2009-02-02', '2009-02-18', '2009-02-24',\n",
      "               '2009-10-15', '2009-12-03', '2010-01-05', '2010-03-23',\n",
      "               '2010-04-06', '2010-04-15', '2010-04-27', '2010-10-14',\n",
      "               '2010-12-09', '2010-12-15', '2012-04-23', '2012-05-18',\n",
      "               '2012-06-04', '2012-08-27', '2012-09-04', '2012-09-14',\n",
      "               '2013-03-18', '2013-03-27', '2013-04-02', '2013-04-09',\n",
      "               '2013-04-26', '2013-06-04', '2013-07-05', '2013-08-16',\n",
      "               '2013-08-20', '2013-08-28', '2013-09-25'],\n",
      "              dtype='datetime64[ns]', name=u'Date', freq=None, tz=None)\n"
     ]
    }
   ],
   "source": [
    "exit_days = data[data.sig < data.sig.shift()].index\n",
    "exit_days[1]\n",
    "\n",
    "i = data.index.get_loc(exit_days[0])\n",
    "data[i-2 :i + 20]\n",
    "\n",
    "print(entry_days)\n",
    "print(exit_days)"
   ]
  },
  {
   "cell_type": "code",
   "execution_count": 56,
   "metadata": {
    "collapsed": false
   },
   "outputs": [
    {
     "data": {
      "text/plain": [
       "<matplotlib.axes._subplots.AxesSubplot at 0x25679d68>"
      ]
     },
     "execution_count": 56,
     "metadata": {},
     "output_type": "execute_result"
    },
    {
     "data": {
      "image/png": "[encoded data removed]",
      "text/plain": [
       "<matplotlib.figure.Figure at 0x25679a20>"
      ]
     },
     "metadata": {},
     "output_type": "display_data"
    }
   ],
   "source": [
    "from datetime import timedelta \n",
    "def get_trans(data, index, entry_days, exit_days):\n",
    "    if index >= len(exit_days): return None\n",
    "    start_date = entry_days[index]\n",
    "    end_date = exit_days[index]\n",
    "    if start_date > end_date and index < len(exit_days)-1:\n",
    "        end_date = exit_days[index + 1]\n",
    "    elif start_date > end_date:\n",
    "        end_date = data.index[-1]\n",
    "    \n",
    "    end_date = end_date - timedelta(days=1)\n",
    "    return data[start_date : end_date ].copy()\n",
    "\n",
    "#print(entry_days[0], exit_days[0])\n",
    "#entry_days[0] > exit_days[0]\n",
    "get_trans(data, 0, entry_days, exit_days)\n",
    "\n",
    "get_trans(data, 1, entry_days, exit_days).tail()\n",
    "\n",
    "trans_1 = get_trans(data, 0, entry_days, exit_days)\n",
    "price_change = trans_1['Adj Close'].pct_change()\n",
    "ret = ( price_change + 1).cumprod()\n",
    "trans_1[['Close', 'lma', 'sma']].plot()\n",
    "ret.plot()\n",
    "#trans_1.tail()\n",
    "# and ax2 is in the lower row"
   ]
  },
  {
   "cell_type": "code",
   "execution_count": 107,
   "metadata": {
    "collapsed": false
   },
   "outputs": [
    {
     "name": "stdout",
     "output_type": "stream",
     "text": [
      "2006-10-20 00:00:00\n"
     ]
    },
    {
     "data": {
      "text/plain": [
       "0.9894736768236331"
      ]
     },
     "execution_count": 107,
     "metadata": {},
     "output_type": "execute_result"
    }
   ],
   "source": [
    "def get_first_date(dates):\n",
    "    if len(dates) > 0 :\n",
    "        return dates[0]\n",
    "    else:\n",
    "        return None\n",
    "    \n",
    "def get_not_none_date(date1, date2):\n",
    "    if date1 is None:\n",
    "        return date2\n",
    "    else:\n",
    "        return date1\n",
    "\n",
    "def get_stopl_date(data, stop_at_pct):\n",
    "    '''获取止损时间\n",
    "    data 交易信号存在数据\n",
    "    stop_at_pct 止损百分比\n",
    "    '''\n",
    "    data['cum_prod'] = (data['Close'].pct_change() + 1).cumprod()\n",
    "    stops = data[data.cum_prod < stop_at_pct].index\n",
    "    return get_not_none_date(get_first_date(stops), data.index[-1])\n",
    "  \n",
    "# test for get_stopl_date function\n",
    "trans2 = get_trans(data, 1, entry_days, exit_days)\n",
    "print(get_stopl_date(trans2, 0.97))\n",
    "np.min(trans2.cum_prod)\n",
    "\n"
   ]
  },
  {
   "cell_type": "code",
   "execution_count": 51,
   "metadata": {
    "collapsed": false
   },
   "outputs": [
    {
     "name": "stdout",
     "output_type": "stream",
     "text": [
      "0.378999666667\n",
      "2006-10-12 00:00:00\n",
      "(15.800000000000001, 14.210000000000001)\n"
     ]
    },
    {
     "data": {
      "text/plain": [
       "Date\n",
       "2006-09-27    14.25\n",
       "2006-09-28    14.59\n",
       "2006-09-29    14.45\n",
       "2006-10-02    14.45\n",
       "2006-10-03    14.45\n",
       "              ...  \n",
       "2006-10-16    14.10\n",
       "2006-10-17    14.10\n",
       "2006-10-18    14.20\n",
       "2006-10-19    14.69\n",
       "2006-10-20    14.37\n",
       "Name: Close, dtype: float64"
      ]
     },
     "execution_count": 51,
     "metadata": {},
     "output_type": "execute_result"
    }
   ],
   "source": [
    "\n",
    "def get_trailstop_date(data, trailstop):\n",
    "    '''获取跟踪止损日期'''\n",
    "    \n",
    "    data['cum_max'] = data['Close'].cummax()\n",
    "    stops = data[data['cum_max']-data['Close'] > trailstop].index\n",
    "    return get_not_none_date(get_first_date(stops), data.index[-1])\n",
    "\n",
    "trailstop =  trans2.iloc[0].atr\n",
    "print(trailstop)\n",
    "ts_at = get_trailstop_date(trans2, trailstop)\n",
    "print(ts_at)\n",
    "if not ts_at is None:\n",
    "   print(trans2.loc[ts_at, 'cum_max'], trans2.loc[ts_at, 'Close'])\n",
    "\n",
    "trans2['Close']"
   ]
  },
  {
   "cell_type": "code",
   "execution_count": 132,
   "metadata": {
    "collapsed": false
   },
   "outputs": [
    {
     "ename": "ValueError",
     "evalue": "Wrong number of items passed 6, placement implies 7",
     "output_type": "error",
     "traceback": [
      "\u001b[1;31m---------------------------------------------------------------------------\u001b[0m",
      "\u001b[1;31mValueError\u001b[0m                                Traceback (most recent call last)",
      "\u001b[1;32m<ipython-input-132-7651413a1650>\u001b[0m in \u001b[0;36m<module>\u001b[1;34m()\u001b[0m\n\u001b[0;32m     71\u001b[0m \u001b[1;33m\u001b[0m\u001b[0m\n\u001b[0;32m     72\u001b[0m \u001b[1;33m\u001b[0m\u001b[0m\n\u001b[1;32m---> 73\u001b[1;33m \u001b[0mparam_sspan\u001b[0m \u001b[1;33m=\u001b[0m \u001b[0mpd\u001b[0m\u001b[1;33m.\u001b[0m\u001b[0mSeries\u001b[0m\u001b[1;33m(\u001b[0m\u001b[0mnp\u001b[0m\u001b[1;33m.\u001b[0m\u001b[0marange\u001b[0m\u001b[1;33m(\u001b[0m\u001b[1;36m10\u001b[0m\u001b[1;33m,\u001b[0m \u001b[1;36m40\u001b[0m\u001b[1;33m,\u001b[0m \u001b[1;36m5\u001b[0m\u001b[1;33m)\u001b[0m\u001b[1;33m,\u001b[0m \u001b[0mindex\u001b[0m \u001b[1;33m=\u001b[0m \u001b[0mrange\u001b[0m\u001b[1;33m(\u001b[0m\u001b[1;36m0\u001b[0m\u001b[1;33m,\u001b[0m \u001b[1;36m7\u001b[0m\u001b[1;33m)\u001b[0m\u001b[1;33m)\u001b[0m\u001b[1;33m\u001b[0m\u001b[0m\n\u001b[0m",
      "\u001b[1;32mC:\\Users\\bai\\Anaconda\\lib\\site-packages\\pandas\\core\\series.pyc\u001b[0m in \u001b[0;36m__init__\u001b[1;34m(self, data, index, dtype, name, copy, fastpath)\u001b[0m\n\u001b[0;32m    218\u001b[0m                                        raise_cast_failure=True)\n\u001b[0;32m    219\u001b[0m \u001b[1;33m\u001b[0m\u001b[0m\n\u001b[1;32m--> 220\u001b[1;33m                 \u001b[0mdata\u001b[0m \u001b[1;33m=\u001b[0m \u001b[0mSingleBlockManager\u001b[0m\u001b[1;33m(\u001b[0m\u001b[0mdata\u001b[0m\u001b[1;33m,\u001b[0m \u001b[0mindex\u001b[0m\u001b[1;33m,\u001b[0m \u001b[0mfastpath\u001b[0m\u001b[1;33m=\u001b[0m\u001b[0mTrue\u001b[0m\u001b[1;33m)\u001b[0m\u001b[1;33m\u001b[0m\u001b[0m\n\u001b[0m\u001b[0;32m    221\u001b[0m \u001b[1;33m\u001b[0m\u001b[0m\n\u001b[0;32m    222\u001b[0m         \u001b[0mgeneric\u001b[0m\u001b[1;33m.\u001b[0m\u001b[0mNDFrame\u001b[0m\u001b[1;33m.\u001b[0m\u001b[0m__init__\u001b[0m\u001b[1;33m(\u001b[0m\u001b[0mself\u001b[0m\u001b[1;33m,\u001b[0m \u001b[0mdata\u001b[0m\u001b[1;33m,\u001b[0m \u001b[0mfastpath\u001b[0m\u001b[1;33m=\u001b[0m\u001b[0mTrue\u001b[0m\u001b[1;33m)\u001b[0m\u001b[1;33m\u001b[0m\u001b[0m\n",
      "\u001b[1;32mC:\\Users\\bai\\Anaconda\\lib\\site-packages\\pandas\\core\\internals.pyc\u001b[0m in \u001b[0;36m__init__\u001b[1;34m(self, block, axis, do_integrity_check, fastpath)\u001b[0m\n\u001b[0;32m   3381\u001b[0m             block = make_block(block,\n\u001b[0;32m   3382\u001b[0m                                \u001b[0mplacement\u001b[0m\u001b[1;33m=\u001b[0m\u001b[0mslice\u001b[0m\u001b[1;33m(\u001b[0m\u001b[1;36m0\u001b[0m\u001b[1;33m,\u001b[0m \u001b[0mlen\u001b[0m\u001b[1;33m(\u001b[0m\u001b[0maxis\u001b[0m\u001b[1;33m)\u001b[0m\u001b[1;33m)\u001b[0m\u001b[1;33m,\u001b[0m\u001b[1;33m\u001b[0m\u001b[0m\n\u001b[1;32m-> 3383\u001b[1;33m                                ndim=1, fastpath=True)\n\u001b[0m\u001b[0;32m   3384\u001b[0m \u001b[1;33m\u001b[0m\u001b[0m\n\u001b[0;32m   3385\u001b[0m         \u001b[0mself\u001b[0m\u001b[1;33m.\u001b[0m\u001b[0mblocks\u001b[0m \u001b[1;33m=\u001b[0m \u001b[1;33m[\u001b[0m\u001b[0mblock\u001b[0m\u001b[1;33m]\u001b[0m\u001b[1;33m\u001b[0m\u001b[0m\n",
      "\u001b[1;32mC:\\Users\\bai\\Anaconda\\lib\\site-packages\\pandas\\core\\internals.pyc\u001b[0m in \u001b[0;36mmake_block\u001b[1;34m(values, placement, klass, ndim, dtype, fastpath)\u001b[0m\n\u001b[0;32m   2099\u001b[0m \u001b[1;33m\u001b[0m\u001b[0m\n\u001b[0;32m   2100\u001b[0m     return klass(values, ndim=ndim, fastpath=fastpath,\n\u001b[1;32m-> 2101\u001b[1;33m                  placement=placement)\n\u001b[0m\u001b[0;32m   2102\u001b[0m \u001b[1;33m\u001b[0m\u001b[0m\n\u001b[0;32m   2103\u001b[0m \u001b[1;33m\u001b[0m\u001b[0m\n",
      "\u001b[1;32mC:\\Users\\bai\\Anaconda\\lib\\site-packages\\pandas\\core\\internals.pyc\u001b[0m in \u001b[0;36m__init__\u001b[1;34m(self, values, placement, ndim, fastpath)\u001b[0m\n\u001b[0;32m     75\u001b[0m             raise ValueError('Wrong number of items passed %d,'\n\u001b[0;32m     76\u001b[0m                              ' placement implies %d' % (\n\u001b[1;32m---> 77\u001b[1;33m                                  len(self.values), len(self.mgr_locs)))\n\u001b[0m\u001b[0;32m     78\u001b[0m \u001b[1;33m\u001b[0m\u001b[0m\n\u001b[0;32m     79\u001b[0m     \u001b[1;33m@\u001b[0m\u001b[0mproperty\u001b[0m\u001b[1;33m\u001b[0m\u001b[0m\n",
      "\u001b[1;31mValueError\u001b[0m: Wrong number of items passed 6, placement implies 7"
     ]
    }
   ],
   "source": [
    "stoplevel = 0.95\n",
    "ts_factor = 3\n",
    "\n",
    "def plot_tran(data, stop_at, trails_at):\n",
    "    data[['Close', 'lma', 'sma']].plot()\n",
    "    pd.Series(data.Close[stop_at], index=[stop_at]).plot(  style='go')\n",
    "    pd.Series(data.Close[trails_at], index=[trails_at]).plot( style='r^')\n",
    "\n",
    "\n",
    "def trade_sum(data):\n",
    "    ret_pct = (data.Close.pct_change()+1).cumprod()\n",
    "    last_ret = ret_pct[-1]\n",
    "    drowndown = data.Close/data.Close.cummax()\n",
    "    max_dd = 1 - np.min(drowndown)\n",
    "    max_ret = np.max(ret_pct)\n",
    "\n",
    "    return pd.DataFrame({'Max Return':[max_ret], 'Max DrownDown':[max_dd],'Last Return':[last_ret]})\n",
    "\n",
    "def sum_tran(fsum):\n",
    "    fsum = fsum.dropna(subset=['Last Return'], how= 'all')\n",
    "    loss_count = len(fsum[fsum['Last Return']<1])\n",
    "    win_count = len(fsum[fsum['Last Return']>1])\n",
    "    print(\"trans count {0:d}, loss count {1:d}, win count {2:d}\".format( len(fsum), loss_count, win_count) )\n",
    "    print(\"Max drowndown {0} Max Return  {1} Mean Return {2}\".format(np.max(fsum['Max DrownDown']), np.max(fsum['Last Return']), np.mean(fsum['Last Return'])))\n",
    "\n",
    "def do_back_test(data, sspan, lspan,stoplvl, trails_factor):\n",
    "    def gen_tech_sig():\n",
    "        tr(data)\n",
    "        data['lma'] = ma(data, lspan)\n",
    "        data['sma'] = ma(data, sspan)\n",
    "        data['atr'] = pd.rolling_mean(data['TR'], sspan)\n",
    "        data.drop(data[0:lspan].index, inplace = True)\n",
    "    \n",
    "    def get_sig_days(direction = 1):\n",
    "        if direction == 1 :\n",
    "            return data[data.sig > data.sig.shift()].index\n",
    "        else:\n",
    "            return data[data.sig < data.sig.shift()].index\n",
    "    \n",
    "    def test_tran(index, fsum):\n",
    "        tran = get_trans(data, i, entry_days, exit_days)\n",
    "        if tran is None: return\n",
    "\n",
    "        term_at = tran.index[-1]\n",
    "        if stoplvl!= 1 : # do  not use stop loss \n",
    "            stop_at = get_stopl_date(tran, 0.95)\n",
    "        else:\n",
    "            stop_at = term_at\n",
    "\n",
    "        trailstop = ts_factor* tran.iloc[0].atr\n",
    "        if trails_factor != 0: # do not use trail stop\n",
    "            trails_at = get_trailstop_date(tran, trailstop)\n",
    "        else:\n",
    "            trails_at = term_at\n",
    "        \n",
    "        real_stop_at = min(stop_at, trails_at, term_at)\n",
    "        #print('term at {0}, real stop at:{1}'.format(term_at, real_stop_at))\n",
    "        #plot_tran(tran, stop_at, trails_at)\n",
    "        ts = trade_sum(tran[:real_stop_at])\n",
    "        if fsum  is None: \n",
    "            fsum = ts\n",
    "        else:\n",
    "            fsum = pd.concat([full_sum, ts], axis=0)\n",
    "\n",
    "    gen_tech_sig()\n",
    "    gen_sig(data)\n",
    "    entry_days = get_sig_days()\n",
    "    exit_days = get_sig_days(0)\n",
    "    fsum = None\n",
    "    for i in range(0, len(entry_days)): test_tran(i, fsum)\n",
    "    \n",
    "        \n",
    "\n"
   ]
  },
  {
   "cell_type": "code",
   "execution_count": 149,
   "metadata": {
    "collapsed": false
   },
   "outputs": [
    {
     "data": {
      "text/plain": [
       "7"
      ]
     },
     "execution_count": 149,
     "metadata": {},
     "output_type": "execute_result"
    }
   ],
   "source": [
    "ax1 = plt.subplot2grid(shape=(2,1), loc=(0,0))\n",
    "ax2 = plt.subplot2grid(shape=(2,1), loc=(1,0))\n",
    "\n",
    "vkhsw[['norm_ret', 'ret']].plot(ax = ax1)\n",
    "vkhsw[[ 'long_ma', 'short_ma']].plot(ax = ax2)\n",
    "trans_count = vkhsw[vkhsw.sig > vkhsw.shift().sig]"
   ]
  },
  {
   "cell_type": "code",
   "execution_count": 169,
   "metadata": {
    "collapsed": false
   },
   "outputs": [
    {
     "ename": "KeyError",
     "evalue": "('sspan', 'lf', 'stopl', 'trailf')",
     "output_type": "error",
     "traceback": [
      "\u001b[1;31m---------------------------------------------------------------------------\u001b[0m",
      "\u001b[1;31mKeyError\u001b[0m                                  Traceback (most recent call last)",
      "\u001b[1;32m<ipython-input-169-c1a55d945ba3>\u001b[0m in \u001b[0;36m<module>\u001b[1;34m()\u001b[0m\n\u001b[0;32m     21\u001b[0m     \u001b[1;32mreturn\u001b[0m \u001b[0mpd\u001b[0m\u001b[1;33m.\u001b[0m\u001b[0mmerge\u001b[0m\u001b[1;33m(\u001b[0m\u001b[0mtemp1\u001b[0m\u001b[1;33m,\u001b[0m \u001b[0mtemp2\u001b[0m\u001b[1;33m,\u001b[0m \u001b[0mon\u001b[0m \u001b[1;33m=\u001b[0m \u001b[1;33m[\u001b[0m\u001b[1;34m'key'\u001b[0m\u001b[1;33m]\u001b[0m\u001b[1;33m)\u001b[0m\u001b[1;33m[\u001b[0m\u001b[1;33m(\u001b[0m\u001b[1;34m'sspan'\u001b[0m\u001b[1;33m,\u001b[0m \u001b[1;34m'lf'\u001b[0m\u001b[1;33m,\u001b[0m \u001b[1;34m'stopl'\u001b[0m\u001b[1;33m,\u001b[0m \u001b[1;34m'trailf'\u001b[0m\u001b[1;33m)\u001b[0m\u001b[1;33m]\u001b[0m\u001b[1;33m\u001b[0m\u001b[0m\n\u001b[0;32m     22\u001b[0m \u001b[1;33m\u001b[0m\u001b[0m\n\u001b[1;32m---> 23\u001b[1;33m \u001b[0mtemp\u001b[0m \u001b[1;33m=\u001b[0m \u001b[0mgen_params_matrix\u001b[0m\u001b[1;33m(\u001b[0m\u001b[1;33m)\u001b[0m\u001b[1;33m\u001b[0m\u001b[0m\n\u001b[0m\u001b[0;32m     24\u001b[0m \u001b[0mtemp\u001b[0m\u001b[1;33m.\u001b[0m\u001b[0mlf\u001b[0m \u001b[1;33m=\u001b[0m \u001b[0mtemp\u001b[0m\u001b[1;33m.\u001b[0m\u001b[0mlf\u001b[0m \u001b[1;33m*\u001b[0m \u001b[0mtemp\u001b[0m\u001b[1;33m.\u001b[0m\u001b[0msspan\u001b[0m\u001b[1;33m\u001b[0m\u001b[0m\n\u001b[0;32m     25\u001b[0m \u001b[0mtemp\u001b[0m\u001b[1;33m\u001b[0m\u001b[0m\n",
      "\u001b[1;32m<ipython-input-169-c1a55d945ba3>\u001b[0m in \u001b[0;36mgen_params_matrix\u001b[1;34m()\u001b[0m\n\u001b[0;32m     19\u001b[0m     \u001b[0mtemp1\u001b[0m \u001b[1;33m=\u001b[0m \u001b[0mpd\u001b[0m\u001b[1;33m.\u001b[0m\u001b[0mmerge\u001b[0m\u001b[1;33m(\u001b[0m\u001b[0mds\u001b[0m\u001b[1;33m,\u001b[0m \u001b[0mdlf\u001b[0m\u001b[1;33m,\u001b[0m \u001b[0mon\u001b[0m \u001b[1;33m=\u001b[0m\u001b[1;33m[\u001b[0m\u001b[1;34m'key'\u001b[0m\u001b[1;33m]\u001b[0m\u001b[1;33m)\u001b[0m\u001b[1;33m\u001b[0m\u001b[0m\n\u001b[0;32m     20\u001b[0m     \u001b[0mtemp2\u001b[0m \u001b[1;33m=\u001b[0m \u001b[0mpd\u001b[0m\u001b[1;33m.\u001b[0m\u001b[0mmerge\u001b[0m\u001b[1;33m(\u001b[0m \u001b[0mdsl\u001b[0m\u001b[1;33m,\u001b[0m\u001b[0mdtf\u001b[0m\u001b[1;33m,\u001b[0m \u001b[0mon\u001b[0m\u001b[1;33m=\u001b[0m\u001b[1;33m[\u001b[0m\u001b[1;34m'key'\u001b[0m\u001b[1;33m]\u001b[0m\u001b[1;33m)\u001b[0m\u001b[1;33m\u001b[0m\u001b[0m\n\u001b[1;32m---> 21\u001b[1;33m     \u001b[1;32mreturn\u001b[0m \u001b[0mpd\u001b[0m\u001b[1;33m.\u001b[0m\u001b[0mmerge\u001b[0m\u001b[1;33m(\u001b[0m\u001b[0mtemp1\u001b[0m\u001b[1;33m,\u001b[0m \u001b[0mtemp2\u001b[0m\u001b[1;33m,\u001b[0m \u001b[0mon\u001b[0m \u001b[1;33m=\u001b[0m \u001b[1;33m[\u001b[0m\u001b[1;34m'key'\u001b[0m\u001b[1;33m]\u001b[0m\u001b[1;33m)\u001b[0m\u001b[1;33m[\u001b[0m\u001b[1;33m(\u001b[0m\u001b[1;34m'sspan'\u001b[0m\u001b[1;33m,\u001b[0m \u001b[1;34m'lf'\u001b[0m\u001b[1;33m,\u001b[0m \u001b[1;34m'stopl'\u001b[0m\u001b[1;33m,\u001b[0m \u001b[1;34m'trailf'\u001b[0m\u001b[1;33m)\u001b[0m\u001b[1;33m]\u001b[0m\u001b[1;33m\u001b[0m\u001b[0m\n\u001b[0m\u001b[0;32m     22\u001b[0m \u001b[1;33m\u001b[0m\u001b[0m\n\u001b[0;32m     23\u001b[0m \u001b[0mtemp\u001b[0m \u001b[1;33m=\u001b[0m \u001b[0mgen_params_matrix\u001b[0m\u001b[1;33m(\u001b[0m\u001b[1;33m)\u001b[0m\u001b[1;33m\u001b[0m\u001b[0m\n",
      "\u001b[1;32mC:\\Users\\bai\\Anaconda\\lib\\site-packages\\pandas\\core\\frame.pyc\u001b[0m in \u001b[0;36m__getitem__\u001b[1;34m(self, key)\u001b[0m\n\u001b[0;32m   1795\u001b[0m             \u001b[1;32mreturn\u001b[0m \u001b[0mself\u001b[0m\u001b[1;33m.\u001b[0m\u001b[0m_getitem_multilevel\u001b[0m\u001b[1;33m(\u001b[0m\u001b[0mkey\u001b[0m\u001b[1;33m)\u001b[0m\u001b[1;33m\u001b[0m\u001b[0m\n\u001b[0;32m   1796\u001b[0m         \u001b[1;32melse\u001b[0m\u001b[1;33m:\u001b[0m\u001b[1;33m\u001b[0m\u001b[0m\n\u001b[1;32m-> 1797\u001b[1;33m             \u001b[1;32mreturn\u001b[0m \u001b[0mself\u001b[0m\u001b[1;33m.\u001b[0m\u001b[0m_getitem_column\u001b[0m\u001b[1;33m(\u001b[0m\u001b[0mkey\u001b[0m\u001b[1;33m)\u001b[0m\u001b[1;33m\u001b[0m\u001b[0m\n\u001b[0m\u001b[0;32m   1798\u001b[0m \u001b[1;33m\u001b[0m\u001b[0m\n\u001b[0;32m   1799\u001b[0m     \u001b[1;32mdef\u001b[0m \u001b[0m_getitem_column\u001b[0m\u001b[1;33m(\u001b[0m\u001b[0mself\u001b[0m\u001b[1;33m,\u001b[0m \u001b[0mkey\u001b[0m\u001b[1;33m)\u001b[0m\u001b[1;33m:\u001b[0m\u001b[1;33m\u001b[0m\u001b[0m\n",
      "\u001b[1;32mC:\\Users\\bai\\Anaconda\\lib\\site-packages\\pandas\\core\\frame.pyc\u001b[0m in \u001b[0;36m_getitem_column\u001b[1;34m(self, key)\u001b[0m\n\u001b[0;32m   1802\u001b[0m         \u001b[1;31m# get column\u001b[0m\u001b[1;33m\u001b[0m\u001b[1;33m\u001b[0m\u001b[0m\n\u001b[0;32m   1803\u001b[0m         \u001b[1;32mif\u001b[0m \u001b[0mself\u001b[0m\u001b[1;33m.\u001b[0m\u001b[0mcolumns\u001b[0m\u001b[1;33m.\u001b[0m\u001b[0mis_unique\u001b[0m\u001b[1;33m:\u001b[0m\u001b[1;33m\u001b[0m\u001b[0m\n\u001b[1;32m-> 1804\u001b[1;33m             \u001b[1;32mreturn\u001b[0m \u001b[0mself\u001b[0m\u001b[1;33m.\u001b[0m\u001b[0m_get_item_cache\u001b[0m\u001b[1;33m(\u001b[0m\u001b[0mkey\u001b[0m\u001b[1;33m)\u001b[0m\u001b[1;33m\u001b[0m\u001b[0m\n\u001b[0m\u001b[0;32m   1805\u001b[0m \u001b[1;33m\u001b[0m\u001b[0m\n\u001b[0;32m   1806\u001b[0m         \u001b[1;31m# duplicate columns & possible reduce dimensionaility\u001b[0m\u001b[1;33m\u001b[0m\u001b[1;33m\u001b[0m\u001b[0m\n",
      "\u001b[1;32mC:\\Users\\bai\\Anaconda\\lib\\site-packages\\pandas\\core\\generic.pyc\u001b[0m in \u001b[0;36m_get_item_cache\u001b[1;34m(self, item)\u001b[0m\n\u001b[0;32m   1082\u001b[0m         \u001b[0mres\u001b[0m \u001b[1;33m=\u001b[0m \u001b[0mcache\u001b[0m\u001b[1;33m.\u001b[0m\u001b[0mget\u001b[0m\u001b[1;33m(\u001b[0m\u001b[0mitem\u001b[0m\u001b[1;33m)\u001b[0m\u001b[1;33m\u001b[0m\u001b[0m\n\u001b[0;32m   1083\u001b[0m         \u001b[1;32mif\u001b[0m \u001b[0mres\u001b[0m \u001b[1;32mis\u001b[0m \u001b[0mNone\u001b[0m\u001b[1;33m:\u001b[0m\u001b[1;33m\u001b[0m\u001b[0m\n\u001b[1;32m-> 1084\u001b[1;33m             \u001b[0mvalues\u001b[0m \u001b[1;33m=\u001b[0m \u001b[0mself\u001b[0m\u001b[1;33m.\u001b[0m\u001b[0m_data\u001b[0m\u001b[1;33m.\u001b[0m\u001b[0mget\u001b[0m\u001b[1;33m(\u001b[0m\u001b[0mitem\u001b[0m\u001b[1;33m)\u001b[0m\u001b[1;33m\u001b[0m\u001b[0m\n\u001b[0m\u001b[0;32m   1085\u001b[0m             \u001b[0mres\u001b[0m \u001b[1;33m=\u001b[0m \u001b[0mself\u001b[0m\u001b[1;33m.\u001b[0m\u001b[0m_box_item_values\u001b[0m\u001b[1;33m(\u001b[0m\u001b[0mitem\u001b[0m\u001b[1;33m,\u001b[0m \u001b[0mvalues\u001b[0m\u001b[1;33m)\u001b[0m\u001b[1;33m\u001b[0m\u001b[0m\n\u001b[0;32m   1086\u001b[0m             \u001b[0mcache\u001b[0m\u001b[1;33m[\u001b[0m\u001b[0mitem\u001b[0m\u001b[1;33m]\u001b[0m \u001b[1;33m=\u001b[0m \u001b[0mres\u001b[0m\u001b[1;33m\u001b[0m\u001b[0m\n",
      "\u001b[1;32mC:\\Users\\bai\\Anaconda\\lib\\site-packages\\pandas\\core\\internals.pyc\u001b[0m in \u001b[0;36mget\u001b[1;34m(self, item, fastpath)\u001b[0m\n\u001b[0;32m   2849\u001b[0m \u001b[1;33m\u001b[0m\u001b[0m\n\u001b[0;32m   2850\u001b[0m             \u001b[1;32mif\u001b[0m \u001b[1;32mnot\u001b[0m \u001b[0misnull\u001b[0m\u001b[1;33m(\u001b[0m\u001b[0mitem\u001b[0m\u001b[1;33m)\u001b[0m\u001b[1;33m:\u001b[0m\u001b[1;33m\u001b[0m\u001b[0m\n\u001b[1;32m-> 2851\u001b[1;33m                 \u001b[0mloc\u001b[0m \u001b[1;33m=\u001b[0m \u001b[0mself\u001b[0m\u001b[1;33m.\u001b[0m\u001b[0mitems\u001b[0m\u001b[1;33m.\u001b[0m\u001b[0mget_loc\u001b[0m\u001b[1;33m(\u001b[0m\u001b[0mitem\u001b[0m\u001b[1;33m)\u001b[0m\u001b[1;33m\u001b[0m\u001b[0m\n\u001b[0m\u001b[0;32m   2852\u001b[0m             \u001b[1;32melse\u001b[0m\u001b[1;33m:\u001b[0m\u001b[1;33m\u001b[0m\u001b[0m\n\u001b[0;32m   2853\u001b[0m                 \u001b[0mindexer\u001b[0m \u001b[1;33m=\u001b[0m \u001b[0mnp\u001b[0m\u001b[1;33m.\u001b[0m\u001b[0marange\u001b[0m\u001b[1;33m(\u001b[0m\u001b[0mlen\u001b[0m\u001b[1;33m(\u001b[0m\u001b[0mself\u001b[0m\u001b[1;33m.\u001b[0m\u001b[0mitems\u001b[0m\u001b[1;33m)\u001b[0m\u001b[1;33m)\u001b[0m\u001b[1;33m[\u001b[0m\u001b[0misnull\u001b[0m\u001b[1;33m(\u001b[0m\u001b[0mself\u001b[0m\u001b[1;33m.\u001b[0m\u001b[0mitems\u001b[0m\u001b[1;33m)\u001b[0m\u001b[1;33m]\u001b[0m\u001b[1;33m\u001b[0m\u001b[0m\n",
      "\u001b[1;32mC:\\Users\\bai\\Anaconda\\lib\\site-packages\\pandas\\core\\index.pyc\u001b[0m in \u001b[0;36mget_loc\u001b[1;34m(self, key, method)\u001b[0m\n\u001b[0;32m   1570\u001b[0m         \"\"\"\n\u001b[0;32m   1571\u001b[0m         \u001b[1;32mif\u001b[0m \u001b[0mmethod\u001b[0m \u001b[1;32mis\u001b[0m \u001b[0mNone\u001b[0m\u001b[1;33m:\u001b[0m\u001b[1;33m\u001b[0m\u001b[0m\n\u001b[1;32m-> 1572\u001b[1;33m             \u001b[1;32mreturn\u001b[0m \u001b[0mself\u001b[0m\u001b[1;33m.\u001b[0m\u001b[0m_engine\u001b[0m\u001b[1;33m.\u001b[0m\u001b[0mget_loc\u001b[0m\u001b[1;33m(\u001b[0m\u001b[0m_values_from_object\u001b[0m\u001b[1;33m(\u001b[0m\u001b[0mkey\u001b[0m\u001b[1;33m)\u001b[0m\u001b[1;33m)\u001b[0m\u001b[1;33m\u001b[0m\u001b[0m\n\u001b[0m\u001b[0;32m   1573\u001b[0m \u001b[1;33m\u001b[0m\u001b[0m\n\u001b[0;32m   1574\u001b[0m         \u001b[0mindexer\u001b[0m \u001b[1;33m=\u001b[0m \u001b[0mself\u001b[0m\u001b[1;33m.\u001b[0m\u001b[0mget_indexer\u001b[0m\u001b[1;33m(\u001b[0m\u001b[1;33m[\u001b[0m\u001b[0mkey\u001b[0m\u001b[1;33m]\u001b[0m\u001b[1;33m,\u001b[0m \u001b[0mmethod\u001b[0m\u001b[1;33m=\u001b[0m\u001b[0mmethod\u001b[0m\u001b[1;33m)\u001b[0m\u001b[1;33m\u001b[0m\u001b[0m\n",
      "\u001b[1;32mpandas\\index.pyx\u001b[0m in \u001b[0;36mpandas.index.IndexEngine.get_loc (pandas\\index.c:3824)\u001b[1;34m()\u001b[0m\n",
      "\u001b[1;32mpandas\\index.pyx\u001b[0m in \u001b[0;36mpandas.index.IndexEngine.get_loc (pandas\\index.c:3704)\u001b[1;34m()\u001b[0m\n",
      "\u001b[1;32mpandas\\hashtable.pyx\u001b[0m in \u001b[0;36mpandas.hashtable.PyObjectHashTable.get_item (pandas\\hashtable.c:12280)\u001b[1;34m()\u001b[0m\n",
      "\u001b[1;32mpandas\\hashtable.pyx\u001b[0m in \u001b[0;36mpandas.hashtable.PyObjectHashTable.get_item (pandas\\hashtable.c:12231)\u001b[1;34m()\u001b[0m\n",
      "\u001b[1;31mKeyError\u001b[0m: ('sspan', 'lf', 'stopl', 'trailf')"
     ]
    }
   ],
   "source": [
    "def gen_param_df(val_name, val):\n",
    "    return pd.DataFrame({'key':np.ones(len(val)), val_name:val} )\n",
    "\n",
    "def gen_params_matrix():\n",
    "    sspan = range(10, 40, 5)\n",
    "    ds = gen_param_df('sspan', sspan)\n",
    "\n",
    "    lf = range(3, 6)\n",
    "    dlf = gen_param_df('lf', lf)\n",
    "    #len(range(10, 40, 5))\n",
    "\n",
    "\n",
    "    stoploss = [0.96, 0.95, 0.94]\n",
    "\n",
    "    dsl =gen_param_df('stopl', stoploss)\n",
    "\n",
    "    trail_factor = range(0, 4)\n",
    "    dtf = gen_param_df('trailf', trail_factor)\n",
    "    temp1 = pd.merge(ds, dlf, on =['key'])\n",
    "    temp2 = pd.merge( dsl,dtf, on=['key'])\n",
    "    return pd.merge(temp1, temp2, on = ['key'])\n",
    "\n",
    "temp = gen_params_matrix()\n",
    "temp.lf = temp.lf * temp.sspan\n",
    "temp"
   ]
  },
  {
   "cell_type": "code",
   "execution_count": 160,
   "metadata": {
    "collapsed": false
   },
   "outputs": [
    {
     "data": {
      "text/plain": [
       "array([ 1.  ,  0.99,  0.98,  0.97,  0.96,  0.95,  0.94,  0.93])"
      ]
     },
     "execution_count": 160,
     "metadata": {},
     "output_type": "execute_result"
    }
   ],
   "source": [
    " np.arange(100, 92, -1)/100.0"
   ]
  },
  {
   "cell_type": "code",
   "execution_count": 152,
   "metadata": {
    "collapsed": false
   },
   "outputs": [],
   "source": [
    "trans_idx = (trans_count + exit_count).index"
   ]
  },
  {
   "cell_type": "code",
   "execution_count": 153,
   "metadata": {
    "collapsed": false
   },
   "outputs": [
    {
     "data": {
      "text/plain": [
       "0    0\n",
       "1    0\n",
       "2    0\n",
       "3    0\n",
       "4    0\n",
       "5    0\n",
       "6    0\n",
       "dtype: float64"
      ]
     },
     "execution_count": 153,
     "metadata": {},
     "output_type": "execute_result"
    }
   ],
   "source": [
    "max_return = pd.Series([0.0]*len(trans_count))\n",
    "max_drawdown = max_return.copy()\n",
    "exit_return = max_drawdown.copy()\n",
    "max_return"
   ]
  },
  {
   "cell_type": "code",
   "execution_count": 154,
   "metadata": {
    "collapsed": false
   },
   "outputs": [],
   "source": [
    "for i in range(0, len(trans_idx)//2):\n",
    "    idx = i *2\n",
    "    trading_days = vkhsw[trans_idx[idx]:trans_idx[idx+1] ].copy()\n",
    "    day_len = len(trading_days)\n",
    "    trading_days.ret = (1+trading_days[\"Adj Close\"].pct_change()).cumprod()\n",
    "    trading_days.norm_ret = trading_days.ret /trading_days.ret.cummax()#use to calc rolling max\n",
    "    max_return[i], max_drawdown[i], exit_return[i] = trade_summ(trading_days, trans_idx[idx+1])"
   ]
  },
  {
   "cell_type": "code",
   "execution_count": 155,
   "metadata": {
    "collapsed": false
   },
   "outputs": [
    {
     "data": {
      "text/plain": [
       "      0     1     2  ...      4     5     6\n",
       "0  1.27  0.98  1.14  ...   1.49  1.23  2.28\n",
       "1  0.29  0.07  0.16  ...   0.23  0.20  0.53\n",
       "2  0.91  0.91  1.02  ...   1.31  1.05  1.17\n",
       "\n",
       "[3 rows x 7 columns]"
      ]
     },
     "execution_count": 155,
     "metadata": {},
     "output_type": "execute_result"
    }
   ],
   "source": [
    "trade_summary = pd.DataFrame([max_return, max_drawdown, exit_return])\n",
    "trade_summary"
   ]
  },
  {
   "cell_type": "code",
   "execution_count": 29,
   "metadata": {
    "collapsed": true
   },
   "outputs": [],
   "source": [
    "last_return = exit_return.cumprod()"
   ]
  },
  {
   "cell_type": "code",
   "execution_count": 80,
   "metadata": {
    "collapsed": false
   },
   "outputs": [],
   "source": [
    "\n",
    "def trade_summ( data, at):\n",
    "    max_ret = np.max(data.ret)\n",
    "    max_dd = 1 - np.min(data.norm_ret)\n",
    "    exit_ret = data.ret.loc[at]\n",
    "    return (max_ret, max_dd, exit_ret)"
   ]
  },
  {
   "cell_type": "code",
   "execution_count": 122,
   "metadata": {
    "collapsed": false
   },
   "outputs": [
    {
     "name": "stdout",
     "output_type": "stream",
     "text": [
      "2011-01-17 00:00:00\n",
      "2011-12-13 00:00:00\n",
      "2012-05-25 00:00:00\n",
      "NaT\n",
      "NaT\n",
      "NaT\n",
      "NaT\n"
     ]
    }
   ],
   "source": [
    "\n",
    "stoploss = 0.95\n",
    "for i in range(0, len(trans_idx)//2):\n",
    "    idx = i *2\n",
    "    trading_days = vkhsw[trans_idx[idx]:trans_idx[idx+1] ].copy()\n",
    "    day_len = len(trading_days)\n",
    "    trading_days.ret = (1+trading_days[\"Adj Close\"].pct_change()).cumprod()\n",
    "    trading_days.norm_ret = trading_days.ret /trading_days.ret.cummax()#use to calc rolling max\n",
    "    \n",
    "    # stop loss filter\n",
    "    trading_days['stopex'] = 0 \n",
    "    trading_days.loc[trading_days.ret < stoploss, 'stopex'] = 1\n",
    "    stop_at = trading_days[trading_days.stopex == 1].index.min()\n",
    "    print stop_at\n",
    "    \n",
    "    # trailing stop filter\n",
    "    tr_stop = 3 * trading_days.loc[ trans_idx[idx], 'ATR']\n",
    "    tr_sig = abs(trading_days.Close - trading_days.Close.cumsum()) > tr_stop \n",
    "    \n",
    "    if  not stop_at.year > 0: stop_at = trans_idx[idx+1]\n",
    "    stop_tds = trading_days[:stop_at].copy()            \n",
    "    max_return[i], max_drawdown[i], exit_return[i] = trade_summ(stop_tds, stop_at)\n",
    "    \n"
   ]
  },
  {
   "cell_type": "code",
   "execution_count": 165,
   "metadata": {
    "collapsed": false
   },
   "outputs": [],
   "source": [
    "test = vkhsw['20111206': '20111220'].copy()\n",
    "# test for trailing stop\n",
    "test.loc[abs(test.Close - test.Close.cummax())>1, 'sig'] =1 "
   ]
  },
  {
   "cell_type": "code",
   "execution_count": 133,
   "metadata": {
    "collapsed": false
   },
   "outputs": [
    {
     "data": {
      "text/plain": [
       "             Open   High    Low    ...      norm_ret  stopex  prevClose\n",
       "Date                               ...                                 \n",
       "2011-12-06  12.30  12.45  12.16    ...          0.87       1        NaN\n",
       "2011-12-07  12.42  12.75  12.35    ...          0.89       1      12.38\n",
       "2011-12-08  12.51  12.66  12.16    ...          0.87       1      12.61\n",
       "\n",
       "[3 rows x 14 columns]"
      ]
     },
     "execution_count": 133,
     "metadata": {},
     "output_type": "execute_result"
    }
   ],
   "source": [
    "test['prevClose'] = test.shift(1).Close\n",
    "test"
   ]
  },
  {
   "cell_type": "code",
   "execution_count": 135,
   "metadata": {
    "collapsed": false
   },
   "outputs": [
    {
     "data": {
      "text/plain": [
       "Date\n",
       "2011-12-06    0.29\n",
       "2011-12-07    0.40\n",
       "2011-12-08    0.50\n",
       "dtype: float64"
      ]
     },
     "execution_count": 135,
     "metadata": {},
     "output_type": "execute_result"
    }
   ],
   "source": [
    "test[['High', 'prevClose']].max(axis=1) - test[['Low', 'prevClose']].min(axis=1)"
   ]
  },
  {
   "cell_type": "code",
   "execution_count": 166,
   "metadata": {
    "collapsed": false
   },
   "outputs": [
    {
     "data": {
      "text/plain": [
       "             Open   High    Low    ...     sig   ret  norm_ret\n",
       "Date                               ...                        \n",
       "2011-12-06  12.30  12.45  12.16    ...       0  0.92      0.87\n",
       "2011-12-07  12.42  12.75  12.35    ...       1  0.94      0.89\n",
       "2011-12-08  12.51  12.66  12.16    ...       1  0.92      0.87\n",
       "2011-12-09  12.18  12.42  12.16    ...       1  0.91      0.86\n",
       "2011-12-12  12.23  12.39  12.20    ...       1  0.91      0.86\n",
       "...           ...    ...    ...    ...     ...   ...       ...\n",
       "2011-12-14  11.90  12.05  11.77    ...       1  0.88      0.83\n",
       "2011-12-15  11.73  11.88  11.11    ...       1  0.88      0.81\n",
       "2011-12-16  11.44  11.68  11.15    ...       0  0.88      0.82\n",
       "2011-12-19  11.48  11.62  11.19    ...       1  0.88      0.81\n",
       "2011-12-20  11.58  11.88  11.50    ...       0  0.88      0.82\n",
       "\n",
       "[11 rows x 15 columns]"
      ]
     },
     "execution_count": 166,
     "metadata": {},
     "output_type": "execute_result"
    }
   ],
   "source": [
    "test"
   ]
  },
  {
   "cell_type": "code",
   "execution_count": null,
   "metadata": {
    "collapsed": true
   },
   "outputs": [],
   "source": []
  }
 ],
 "metadata": {
  "kernelspec": {
   "display_name": "Python 2",
   "language": "python",
   "name": "python2"
  },
  "language_info": {
   "codemirror_mode": {
    "name": "ipython",
    "version": 2
   },
   "file_extension": ".py",
   "mimetype": "text/x-python",
   "name": "python",
   "nbconvert_exporter": "python",
   "pygments_lexer": "ipython2",
   "version": "2.7.10"
  }
 },
 "nbformat": 4,
 "nbformat_minor": 0
}
