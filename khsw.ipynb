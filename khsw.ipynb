{
 "cells": [
  {
   "cell_type": "code",
   "execution_count": 1,
   "metadata": {
    "collapsed": false
   },
   "outputs": [],
   "source": [
    "import pandas as pd\n",
    "import pandas.io.data as web\n",
    "import numpy as np\n",
    "import datetime\n",
    "import matplotlib.pyplot as plt\n",
    "%matplotlib inline\n",
    "pd.set_option('display.notebook_repr_html', False)\n",
    "pd.set_option('display.max_columns', 6)\n",
    "pd.set_option('display.max_rows', 10)\n",
    "pd.set_option('display.width', 78)\n",
    "pd.set_option('precision', 3)"
   ]
  },
  {
   "cell_type": "code",
   "execution_count": 2,
   "metadata": {
    "collapsed": true
   },
   "outputs": [],
   "source": [
    "khsw = web.DataReader('002022.SZ', 'yahoo', '2010/1', '2015/11/10')"
   ]
  },
  {
   "cell_type": "code",
   "execution_count": 3,
   "metadata": {
    "collapsed": false
   },
   "outputs": [
    {
     "data": {
      "text/plain": [
       "<bound method DataFrame.head of              Open   High    Low  Close    Volume  Adj Close\n",
       "Date                                                       \n",
       "2010-01-11  20.65  20.99  20.00  20.11   6885000      18.21\n",
       "2010-01-12  20.29  20.95  20.02  20.91   8525300      18.93\n",
       "2010-01-13  20.80  21.15  20.36  20.73   9991000      18.77\n",
       "2010-01-14  20.66  21.73  20.66  21.42   9837300      19.40\n",
       "2010-01-15  21.56  22.14  21.55  21.98  11486400      19.90\n",
       "...           ...    ...    ...    ...       ...        ...\n",
       "2015-11-03  25.05  25.44  24.55  25.10  15916000      25.10\n",
       "2015-11-04  26.00  27.20  25.70  27.15  29450600      27.15\n",
       "2015-11-05  27.23  27.52  26.50  27.36  34191800      27.36\n",
       "2015-11-06  27.20  28.97  27.20  28.69  33893500      28.69\n",
       "2015-11-09  28.50  30.66  28.26  29.21  37536400      29.21\n",
       "\n",
       "[1486 rows x 6 columns]>"
      ]
     },
     "execution_count": 3,
     "metadata": {},
     "output_type": "execute_result"
    }
   ],
   "source": [
    "khsw.head"
   ]
  },
  {
   "cell_type": "code",
   "execution_count": 4,
   "metadata": {
    "collapsed": true
   },
   "outputs": [],
   "source": [
    "khsw['long_ma']=pd.rolling_mean(khsw['Adj Close'], 120)"
   ]
  },
  {
   "cell_type": "code",
   "execution_count": 5,
   "metadata": {
    "collapsed": false
   },
   "outputs": [
    {
     "data": {
      "text/plain": [
       "Date\n",
       "2015-11-03    32.18\n",
       "2015-11-04    32.05\n",
       "2015-11-05    31.92\n",
       "2015-11-06    31.80\n",
       "2015-11-09    31.69\n",
       "Name: long_ma, dtype: float64"
      ]
     },
     "execution_count": 5,
     "metadata": {},
     "output_type": "execute_result"
    }
   ],
   "source": [
    "khsw['long_ma'].tail()"
   ]
  },
  {
   "cell_type": "code",
   "execution_count": 6,
   "metadata": {
    "collapsed": false
   },
   "outputs": [],
   "source": [
    "khsw['short_ma'] = pd.rolling_mean(khsw['Adj Close'], 30)\n",
    "khsw['short_ma'].tail()\n",
    "khsw['change'] = khsw['Adj Close'].pct_change()"
   ]
  },
  {
   "cell_type": "code",
   "execution_count": 7,
   "metadata": {
    "collapsed": false
   },
   "outputs": [
    {
     "data": {
      "text/plain": [
       "<bound method DataFrame.head of              Open   High    Low   ...    long_ma  short_ma  change\n",
       "Date                              ...                             \n",
       "2010-07-07  14.57  14.59  14.05   ...      19.59     15.16   -0.01\n",
       "2010-07-08  14.30  14.95  14.08   ...      19.55     14.96    0.00\n",
       "2010-07-09  14.40  14.88  14.21   ...      19.50     14.76    0.01\n",
       "2010-07-12  14.59  14.95  14.59   ...      19.45     14.57    0.00\n",
       "2010-07-13  14.77  14.77  14.00   ...      19.39     14.47   -0.04\n",
       "...           ...    ...    ...   ...        ...       ...     ...\n",
       "2015-11-03  25.05  25.44  24.55   ...      32.18     24.13    0.00\n",
       "2015-11-04  26.00  27.20  25.70   ...      32.05     24.28    0.08\n",
       "2015-11-05  27.23  27.52  26.50   ...      31.92     24.43    0.01\n",
       "2015-11-06  27.20  28.97  27.20   ...      31.80     24.68    0.05\n",
       "2015-11-09  28.50  30.66  28.26   ...      31.69     24.94    0.02\n",
       "\n",
       "[1366 rows x 9 columns]>"
      ]
     },
     "execution_count": 7,
     "metadata": {},
     "output_type": "execute_result"
    }
   ],
   "source": [
    "vkhsw = khsw[120:].copy()\n",
    "vkhsw.head\n"
   ]
  },
  {
   "cell_type": "code",
   "execution_count": 8,
   "metadata": {
    "collapsed": false
   },
   "outputs": [],
   "source": [
    "vkhsw['sig']=0"
   ]
  },
  {
   "cell_type": "code",
   "execution_count": 9,
   "metadata": {
    "collapsed": false
   },
   "outputs": [],
   "source": [
    "vkhsw.loc[vkhsw.short_ma > vkhsw.long_ma, 'sig']= 1"
   ]
  },
  {
   "cell_type": "code",
   "execution_count": 10,
   "metadata": {
    "collapsed": false
   },
   "outputs": [
    {
     "data": {
      "text/plain": [
       "             Open   High    Low ...   short_ma  change  sig\n",
       "Date                            ...                        \n",
       "2010-10-29  17.23  17.40  16.72 ...      15.33    0.02    1\n",
       "2010-11-01  17.48  17.77  17.30 ...      15.34    0.01    1\n",
       "2010-11-02  17.60  17.77  17.21 ...      15.33   -0.02    1\n",
       "2010-11-03  17.21  17.32  16.80 ...      15.29   -0.02    1\n",
       "2010-11-04  16.93  17.50  16.91 ...      15.27    0.03    1\n",
       "...           ...    ...    ... ...        ...     ...  ...\n",
       "2015-07-23  37.00  38.47  36.57 ...      39.77    0.03    1\n",
       "2015-07-24  38.19  40.99  37.56 ...      39.06    0.02    1\n",
       "2015-07-27  38.00  39.24  34.92 ...      38.28   -0.10    1\n",
       "2015-07-28  32.93  34.00  31.43 ...      37.53   -0.08    1\n",
       "2015-07-29  32.69  33.48  29.11 ...      36.80    0.04    1\n",
       "\n",
       "[702 rows x 10 columns]"
      ]
     },
     "execution_count": 10,
     "metadata": {},
     "output_type": "execute_result"
    }
   ],
   "source": [
    "vkhsw.loc[vkhsw.sig==1]"
   ]
  },
  {
   "cell_type": "code",
   "execution_count": 14,
   "metadata": {
    "collapsed": false
   },
   "outputs": [],
   "source": [
    "vkhsw['ret'] = (vkhsw.sig*vkhsw.change + 1).cumprod()\n",
    "vkhsw['norm_ret'] = (vkhsw.change +1).cumprod()\n",
    "\n",
    "# and ax2 is in the lower row\n",
    "\n"
   ]
  },
  {
   "cell_type": "code",
   "execution_count": 15,
   "metadata": {
    "collapsed": false
   },
   "outputs": [
    {
     "data": {
      "text/plain": [
       "<matplotlib.axes._subplots.AxesSubplot at 0xcef0898>"
      ]
     },
     "execution_count": 15,
     "metadata": {},
     "output_type": "execute_result"
    },
    {
     "data": {
      "image/png": "[encoded data removed]",
      "text/plain": [
       "<matplotlib.figure.Figure at 0xc4a7e10>"
      ]
     },
     "metadata": {},
     "output_type": "display_data"
    }
   ],
   "source": [
    "ax1 = plt.subplot2grid(shape=(2,1), loc=(0,0))\n",
    "ax2 = plt.subplot2grid(shape=(2,1), loc=(1,0))\n",
    "\n",
    "vkhsw[['norm_ret', 'ret']].plot(ax = ax1)\n",
    "vkhsw[[ 'long_ma', 'short_ma']].plot(ax = ax2)"
   ]
  },
  {
   "cell_type": "code",
   "execution_count": 28,
   "metadata": {
    "collapsed": false
   },
   "outputs": [],
   "source": [
    "trans_count = vkhsw[vkhsw.sig > vkhsw.shift().sig]"
   ]
  },
  {
   "cell_type": "code",
   "execution_count": 29,
   "metadata": {
    "collapsed": false
   },
   "outputs": [
    {
     "data": {
      "text/plain": [
       "             Open   High    Low    ...     sig   ret  norm_ret\n",
       "Date                               ...                        \n",
       "2010-10-29  17.23  17.40  16.72    ...       1  1.02      1.19\n",
       "2011-12-07  12.42  12.75  12.35    ...       1  0.94      0.89\n",
       "2012-05-15  10.97  11.06  10.87    ...       1  0.86      0.80\n",
       "2013-01-31  12.18  13.15  12.13    ...       1  0.93      0.93\n",
       "2013-12-20  16.82  16.82  16.82    ...       1  1.23      1.26\n",
       "2014-06-30  22.56  23.07  22.26    ...       1  1.65      1.74\n",
       "2015-02-23  26.50  26.50  26.50    ...       1  1.70      2.00\n",
       "\n",
       "[7 rows x 12 columns]"
      ]
     },
     "execution_count": 29,
     "metadata": {},
     "output_type": "execute_result"
    }
   ],
   "source": [
    "trans_count"
   ]
  },
  {
   "cell_type": "code",
   "execution_count": 30,
   "metadata": {
    "collapsed": false
   },
   "outputs": [
    {
     "data": {
      "text/plain": [
       "             Open   High    Low    ...     sig   ret  norm_ret\n",
       "Date                               ...                        \n",
       "2011-12-06  12.30  12.45  12.16    ...       0  0.92      0.87\n",
       "2011-12-07  12.42  12.75  12.35    ...       1  0.94      0.89\n",
       "2011-12-08  12.51  12.66  12.16    ...       1  0.92      0.87\n",
       "\n",
       "[3 rows x 12 columns]"
      ]
     },
     "execution_count": 30,
     "metadata": {},
     "output_type": "execute_result"
    }
   ],
   "source": [
    "vkhsw['20111206': '20111208']"
   ]
  },
  {
   "cell_type": "code",
   "execution_count": 32,
   "metadata": {
    "collapsed": false
   },
   "outputs": [
    {
     "data": {
      "text/plain": [
       "             Open   High    Low    ...     sig   ret  norm_ret\n",
       "Date                               ...                        \n",
       "2011-01-26  15.64  15.89  15.64    ...       0  0.92      1.09\n",
       "2011-12-15  11.73  11.88  11.11    ...       0  0.88      0.81\n",
       "2012-10-19  11.25  11.34  11.17    ...       0  0.89      0.81\n",
       "2013-10-10  16.38  16.38  15.89    ...       0  1.23      1.20\n",
       "2014-06-16  21.92  22.07  21.58    ...       0  1.62      1.64\n",
       "2014-11-21  23.65  24.33  23.53    ...       0  1.70      1.83\n",
       "2015-07-30  32.80  33.38  30.61    ...       0  2.16      2.33\n",
       "\n",
       "[7 rows x 12 columns]"
      ]
     },
     "execution_count": 32,
     "metadata": {},
     "output_type": "execute_result"
    }
   ],
   "source": [
    "exit_count = vkhsw[vkhsw.sig < vkhsw.shift().sig]\n",
    "exit_count"
   ]
  },
  {
   "cell_type": "code",
   "execution_count": 35,
   "metadata": {
    "collapsed": false
   },
   "outputs": [],
   "source": [
    "trans_idx = (trans_count + exit_count).index"
   ]
  },
  {
   "cell_type": "code",
   "execution_count": 54,
   "metadata": {
    "collapsed": false
   },
   "outputs": [
    {
     "name": "stdout",
     "output_type": "stream",
     "text": [
      "max trading ret is 1.26801178784\n",
      "ending ret is 0.911239187581\n",
      "max draw down in this trading is 0.292\n",
      "max trading ret is 0.977002847732\n",
      "ending ret is 0.911975056612\n",
      "max draw down in this trading is 0.067\n",
      "max trading ret is 1.14350967607\n",
      "ending ret is 1.02102395321\n",
      "max draw down in this trading is 0.164\n",
      "max trading ret is 1.43666989547\n",
      "ending ret is 1.28417404855\n",
      "max draw down in this trading is 0.171\n",
      "max trading ret is 1.49346034919\n",
      "ending ret is 1.30718662825\n",
      "max draw down in this trading is 0.226\n",
      "max trading ret is 1.22776549069\n",
      "ending ret is 1.0516270368\n",
      "max draw down in this trading is 0.198\n",
      "max trading ret is 2.28301912606\n",
      "ending ret is 1.16518978418\n",
      "max draw down in this trading is 0.531\n"
     ]
    }
   ],
   "source": [
    "for i in range(0, len(trans_idx)//2):\n",
    "    idx = i *2\n",
    "    trading_days = vkhsw[trans_idx[idx]:trans_idx[idx+1] ].copy()\n",
    "    day_len = len(trading_days)\n",
    "    trading_days.ret = (1+trading_days[\"Adj Close\"].pct_change()).cumprod()\n",
    "    trading_days.norm_ret = trading_days.ret /trading_days.ret.cummax()#use to calc rolling max\n",
    "    print(\"max trading ret is {0}\".format(np.max(trading_days.ret)))\n",
    "    print(\"ending ret is {0}\".format(trading_days.iloc[-1].ret))\n",
    "    print('max draw down in this trading is {0:.3f}'.format(1-np.min(trading_days.norm_ret)))"
   ]
  },
  {
   "cell_type": "code",
   "execution_count": null,
   "metadata": {
    "collapsed": true
   },
   "outputs": [],
   "source": []
  }
 ],
 "metadata": {
  "kernelspec": {
   "display_name": "Python 2",
   "language": "python",
   "name": "python2"
  },
  "language_info": {
   "codemirror_mode": {
    "name": "ipython",
    "version": 2
   },
   "file_extension": ".py",
   "mimetype": "text/x-python",
   "name": "python",
   "nbconvert_exporter": "python",
   "pygments_lexer": "ipython2",
   "version": "2.7.9"
  }
 },
 "nbformat": 4,
 "nbformat_minor": 0
}
